{
 "cells": [
  {
   "cell_type": "code",
   "execution_count": 1,
   "metadata": {},
   "outputs": [],
   "source": [
    "def readFile(filename):\n",
    "    f=open(filename,'r')\n",
    "    filedata=f.read()\n",
    "    f.close()\n",
    "    return filedata"
   ]
  },
  {
   "cell_type": "code",
   "execution_count": 2,
   "metadata": {},
   "outputs": [],
   "source": [
    "contacts2={'pradeep': [8297826965, 'tonystarksgpk@gmail.com'], 'name2': [9876543210, 'hiidude@gamil.com'], 'name3': [98374112319, 'hiii1234@gamil.com']}\n"
   ]
  },
  {
   "cell_type": "code",
   "execution_count": 5,
   "metadata": {},
   "outputs": [
    {
     "name": "stdout",
     "output_type": "stream",
     "text": [
      "contacts added\n",
      "pradeep8297826965tonystarksgpk@gmail.comname29876543210hiidude@gamil.comname398374112319hiii1234@gamil.com\n"
     ]
    }
   ],
   "source": [
    "#adding contacts to a file\n",
    "def addingtofile(filename1):\n",
    "    with open(filename1,'w') as f:\n",
    "        for i,j in contacts2.items():\n",
    "            f.write(str(i))\n",
    "            f.write(str(j[0]))\n",
    "            f.write(str(j[1]))\n",
    "    print(\"contacts added\")\n",
    "            \n",
    "filename1=\"datafiles/contacts.txt\"\n",
    "addingtofile(filename1)\n",
    "\n",
    "print(readFile(filename1))"
   ]
  },
  {
   "cell_type": "code",
   "execution_count": 19,
   "metadata": {},
   "outputs": [
    {
     "name": "stdout",
     "output_type": "stream",
     "text": [
      "False\n",
      "contacts added\n"
     ]
    }
   ],
   "source": [
    "import re\n",
    "from Packages.validator  import phonenumbervalidater as pnv\n",
    "from Packages.validator  import emailvalidater as ev\n",
    "\n",
    "def addcontact(name, phone, email):\n",
    "    fname=\"datafiles/contacts.txt\"\n",
    "    if not checkContactExists(name):\n",
    "        if  pnv(phone) and ev(email) :\n",
    "            \n",
    "                    with open(fname,'a') as f:\n",
    "                        line=name +','+ str(phone) +','+email+'\\n'\n",
    "                        f.write(line)\n",
    "                    print(\"contacts added\")\n",
    "        else:\n",
    "            print(\"Invalid Phone number or Email\")\n",
    "    else:\n",
    "        print (\"it is already exits\")\n",
    "        return\n",
    "\n",
    "def checkContactExists(name):\n",
    "    filename=\"datafiles/contacts.txt\"\n",
    "    with open(filename,'r') as f:\n",
    "        filedata =f.read()\n",
    "        pattern =name+','\n",
    "    return re.search(pattern,filedata)\n",
    "if checkContactExists(\"name2\"):\n",
    "    print (\"True\")\n",
    "else:\n",
    "    print(\"False\")\n",
    "addcontact(\"Edward collens\",\"9554279020\",\"twilight@gmail.com\")"
   ]
  },
  {
   "cell_type": "code",
   "execution_count": 20,
   "metadata": {},
   "outputs": [
    {
     "name": "stdout",
     "output_type": "stream",
     "text": [
      "Robert,\n"
     ]
    }
   ],
   "source": [
    "#function to search contact\n",
    "def searchcontact(name):\n",
    "    filename=\"datafiles/contacts.txt\"\n",
    "    with open(filename,'r') as f:\n",
    "        filedata =f.read()\n",
    "        pattern =name+','\n",
    "    if re.search(pattern,filedata):\n",
    "        print(pattern)\n",
    "    else:\n",
    "        print(\"not Found\")\n",
    "searchcontact(\"Robert\")"
   ]
  },
  {
   "cell_type": "code",
   "execution_count": 22,
   "metadata": {},
   "outputs": [
    {
     "data": {
      "text/plain": [
       "[['pradeepgali', '8297826786', 'pspkgpk@gmail.com'],\n",
       " ['Robert', '9876543210', 'notgoodenough@gmail.com'],\n",
       " ['Robert Downey.jr', '9554278920', 'iamironman@gmail.com'],\n",
       " ['Edward collens', '9554279020', 'twilight@gmail.com']]"
      ]
     },
     "execution_count": 22,
     "metadata": {},
     "output_type": "execute_result"
    }
   ],
   "source": [
    "#convert a contacts in list \n",
    "def csvTolist(filename):\n",
    "    li =[]\n",
    "    filename=\"datafiles/contacts.txt\"\n",
    "    with open(filename,'r') as f:\n",
    "        for line in f:\n",
    "            li.append(line.strip().split(','))\n",
    "    return li\n",
    "filename=\"datafiles/contacts.txt\"\n",
    "li=csvTolist(filename)\n",
    "li"
   ]
  },
  {
   "cell_type": "code",
   "execution_count": 23,
   "metadata": {},
   "outputs": [
    {
     "data": {
      "text/plain": [
       "'pradeepgali,8297826786,pspkgpk@gmail.comRobert,9876543210,notgoodenough@gmail.comRobert Downey.jr,9554278920,iamironman@gmail.comEdward collens,9554279020,twilight@gmail.com'"
      ]
     },
     "execution_count": 23,
     "metadata": {},
     "output_type": "execute_result"
    }
   ],
   "source": [
    "def ListTOfile(li):\n",
    "    s=''\n",
    "    for i in li:\n",
    "        s+=','.join(i)\n",
    "    return s\n",
    "ListTOfile(li)"
   ]
  },
  {
   "cell_type": "code",
   "execution_count": 50,
   "metadata": {},
   "outputs": [
    {
     "name": "stdout",
     "output_type": "stream",
     "text": [
      "pradeepgali,8297826786,pspkgpk@gmail.com\n",
      "Robert,9876543210,notgoodenough@gmail.com\n",
      "Robert Downey.jr,9554278920,iamironman@gmail.com\n",
      "Edward collens,9554279020,twilight@gmail.com\n",
      "\n"
     ]
    }
   ],
   "source": [
    "with open(\"datafiles/check.txt\",\"w\") as f:\n",
    "    s=''\n",
    "    for i in li:\n",
    "         s+=','.join(i)+\"\\n\"\n",
    "    f.write(s)\n",
    "\n",
    "f=\"datafiles/check.txt\"    \n",
    "print(readFile(f))\n"
   ]
  },
  {
   "cell_type": "code",
   "execution_count": null,
   "metadata": {},
   "outputs": [],
   "source": [
    "import re\n",
    "def searchcontact(name):\n",
    "    filename=\"datafiles/contacts.txt\"\n",
    "    with open(filename,'r') as f:\n",
    "        flag=0\n",
    "        filedata =csvTolist(filename)\n",
    "        for line in filedata:\n",
    "            if line[0]==name:\n",
    "                flag=1\n",
    "                print(','.join(line))\n",
    "        if flag==0:\n",
    "                 print(\"not exist in the list\")\n",
    "searchcontact(\"akash\")"
   ]
  },
  {
   "cell_type": "code",
   "execution_count": null,
   "metadata": {},
   "outputs": [],
   "source": [
    "print(readFile(filename))"
   ]
  },
  {
   "cell_type": "code",
   "execution_count": null,
   "metadata": {},
   "outputs": [],
   "source": [
    "def deletecontact(name):\n",
    "    filename=\"datafiles/contacts.txt\"\n",
    "    with open(filename,'r+') as f:\n",
    "        flag=0\n",
    "        filedata =csvTolist(filename)\n",
    "        for i in range(len(filedata)):\n",
    "            if filedata[i]==name:\n",
    "                flag=1\n",
    "                filedata.pop(i)\n",
    "                f.write(ListTOfile(filedata))\n",
    "        if flag==0:\n",
    "                 print(\"not exist in the list\")\n",
    "deletecontact(\"pradeep\")\n",
    "print(readFile(filename))"
   ]
  },
  {
   "cell_type": "code",
   "execution_count": null,
   "metadata": {},
   "outputs": [],
   "source": [
    "def searchcontact(name):\n",
    "    filename=\"datafiles/contacts.txt\"\n",
    "    with open(filename,'r') as f:\n",
    "        flag=0\n",
    "        filedata =csvTolist(filename)\n",
    "        for line in filedata:\n",
    "            if line[0]==name:\n",
    "                flag=1\n",
    "                print(','.join(line))\n",
    "        if flag==0:\n",
    "                 print(\"not exist in the list\")\n",
    "searchcontact(\"pradeepgali\")"
   ]
  },
  {
   "cell_type": "code",
   "execution_count": null,
   "metadata": {},
   "outputs": [],
   "source": [
    "print(readFile(filename))"
   ]
  },
  {
   "cell_type": "code",
   "execution_count": null,
   "metadata": {},
   "outputs": [],
   "source": [
    "def searchwithreturn(fname,name):\n",
    "    f1=csvTolist(fname)\n",
    "    flag=0\n",
    "    for i in range(len(f1)):\n",
    "         if name==f1[i][0]:\n",
    "                flag=1\n",
    "                return i\n",
    "    if flag==0:\n",
    "        return -1\n",
    "searchwithreturn(fname,'pradeepgali')"
   ]
  },
  {
   "cell_type": "code",
   "execution_count": null,
   "metadata": {},
   "outputs": [],
   "source": [
    "def remove(fname,name):\n",
    "    i=searchwithreturn(fname,name)\n",
    "    if i!=-1:\n",
    "        f1=csvTOlist(fname)\n",
    "        f1.pop(i)\n",
    "        s=listTOcsv(f1)\n",
    "        with open(fname,'w') as f:\n",
    "            f.write(s)\n",
    "    else:\n",
    "        print(\"contact not found to remove\")\n",
    "remove(fname,'raj')\n"
   ]
  },
  {
   "cell_type": "code",
   "execution_count": null,
   "metadata": {},
   "outputs": [],
   "source": [
    "def modifycontact(fname,name,name2):\n",
    "    i=searchwithreturn(fname,name)\n",
    "    if i!=-1:\n",
    "        f1=csvTolist(fname)\n",
    "        f1[i][0]=name2\n",
    "        s=ListTOfile(f1)\n",
    "        print(s)\n",
    "        with open(fname,'w') as f:\n",
    "            f.write(s)\n",
    "    else:\n",
    "        print(\"contact not find\")\n",
    "    return\n",
    "  \n",
    "fname=\"datafiles/contacts.txt\"   \n",
    "modifycontact(fname,'tonystarks',\"chris hamsworth\")       "
   ]
  },
  {
   "cell_type": "code",
   "execution_count": null,
   "metadata": {},
   "outputs": [],
   "source": [
    "print(readFile(fname))"
   ]
  },
  {
   "cell_type": "code",
   "execution_count": null,
   "metadata": {},
   "outputs": [],
   "source": []
  }
 ],
 "metadata": {
  "kernelspec": {
   "display_name": "Python 3",
   "language": "python",
   "name": "python3"
  },
  "language_info": {
   "codemirror_mode": {
    "name": "ipython",
    "version": 3
   },
   "file_extension": ".py",
   "mimetype": "text/x-python",
   "name": "python",
   "nbconvert_exporter": "python",
   "pygments_lexer": "ipython3",
   "version": "3.7.3"
  }
 },
 "nbformat": 4,
 "nbformat_minor": 2
}
