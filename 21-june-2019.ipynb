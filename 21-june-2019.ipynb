{
 "cells": [
  {
   "cell_type": "code",
   "execution_count": 5,
   "metadata": {},
   "outputs": [],
   "source": [
    "def readFile(filename):\n",
    "    f=open(filename,'r')\n",
    "    filedata=f.read()\n",
    "    f.close()\n",
    "    return filedata"
   ]
  },
  {
   "cell_type": "code",
   "execution_count": 2,
   "metadata": {},
   "outputs": [],
   "source": [
    "contacts2={'pradeep': [8297826965, 'tonystarksgpk@gmail.com'], 'name2': [9876543210, 'hiidude@gamil.com'], 'name3': [98374112319, 'hiii1234@gamil.com']}\n"
   ]
  },
  {
   "cell_type": "code",
   "execution_count": 7,
   "metadata": {},
   "outputs": [
    {
     "name": "stdout",
     "output_type": "stream",
     "text": [
      "contacts added\n",
      "pradeep8297826965tonystarksgpk@gmail.comname29876543210hiidude@gamil.comname398374112319hiii1234@gamil.com\n"
     ]
    }
   ],
   "source": [
    "#adding contacts to a file\n",
    "def addingtofile(filename1):\n",
    "    with open(filename1,'w') as f:\n",
    "        for i,j in contacts2.items():\n",
    "            f.write(str(i))\n",
    "            f.write(str(j[0]))\n",
    "            f.write(str(j[1]))\n",
    "    print(\"contacts added\")\n",
    "            \n",
    "filename1=\"datafiles/contacts.txt\"\n",
    "addingtofile(filename1)\n",
    "\n",
    "print(readFile(filename1))"
   ]
  },
  {
   "cell_type": "code",
   "execution_count": 10,
   "metadata": {},
   "outputs": [
    {
     "name": "stdout",
     "output_type": "stream",
     "text": [
      "False\n",
      "it is already exits\n"
     ]
    }
   ],
   "source": [
    "import re\n",
    "from Packages.validator  import phonenumbervalidater as pnv\n",
    "from Packages.validator  import emailvalidater as ev\n",
    "\n",
    "def addcontact(name, phone, email):\n",
    "    fname=\"datafiles/contacts.txt\"\n",
    "    if not checkContactExists(name):\n",
    "        if  pnv(phone) and ev(email) :\n",
    "            \n",
    "                    with open(fname,'a') as f:\n",
    "                        line=name +','+ str(phone) +','+email+'\\n'\n",
    "                        f.write(line)\n",
    "                    print(\"contacts added\")\n",
    "        else:\n",
    "            print(\"Invalid Phone number or Email\")\n",
    "    else:\n",
    "        print (\"it is already exits\")\n",
    "        return\n",
    "\n",
    "def checkContactExists(name):\n",
    "    filename=\"datafiles/contacts.txt\"\n",
    "    with open(filename,'r') as f:\n",
    "        filedata =f.read()\n",
    "        pattern =name+','\n",
    "    return re.search(pattern,filedata)\n",
    "if checkContactExists(\"name2\"):\n",
    "    print (\"True\")\n",
    "else:\n",
    "    print(\"False\")\n",
    "addcontact(\"pradeepgali\",\"8297826786\",\"pspkgpk@gmail.com\")"
   ]
  },
  {
   "cell_type": "code",
   "execution_count": 11,
   "metadata": {},
   "outputs": [
    {
     "name": "stdout",
     "output_type": "stream",
     "text": [
      "not Found\n"
     ]
    }
   ],
   "source": [
    "#function to search contact\n",
    "def searchcontact(name):\n",
    "    filename=\"datafiles/contacts.txt\"\n",
    "    with open(filename,'r') as f:\n",
    "        filedata =f.read()\n",
    "        pattern =name+','\n",
    "    if re.search(pattern,filedata):\n",
    "        print(pattern)\n",
    "    else:\n",
    "        print(\"not Found\")\n",
    "searchcontact(\"pradeep\")"
   ]
  },
  {
   "cell_type": "code",
   "execution_count": 34,
   "metadata": {},
   "outputs": [
    {
     "data": {
      "text/plain": [
       "[['tonystark', '8297826965', 'tonystarksgpk@gmail.com\\n'],\n",
       " ['pradeepgali', '8297826965', 'tonystarksgpk@gmail.com\\n']]"
      ]
     },
     "execution_count": 34,
     "metadata": {},
     "output_type": "execute_result"
    }
   ],
   "source": [
    "#convert a contacts in list \n",
    "def csvTolist(filename):\n",
    "    li =[]\n",
    "    filename=\"datafiles/contacts.txt\"\n",
    "    with open(filename,'r') as f:\n",
    "        for line in f:\n",
    "            li.append(line.split(','))\n",
    "    return li\n",
    "filename=\"datafiles/contacts.txt\"\n",
    "li=csvTolist(filename)\n",
    "li"
   ]
  },
  {
   "cell_type": "code",
   "execution_count": 35,
   "metadata": {},
   "outputs": [
    {
     "data": {
      "text/plain": [
       "'tonystark,8297826965,tonystarksgpk@gmail.com\\npradeepgali,8297826965,tonystarksgpk@gmail.com\\n'"
      ]
     },
     "execution_count": 35,
     "metadata": {},
     "output_type": "execute_result"
    }
   ],
   "source": [
    "def ListTOfile(li):\n",
    "    s=''\n",
    "    for i in li:\n",
    "        s+=','.join(i)\n",
    "    return s\n",
    "ListTOfile(li)"
   ]
  },
  {
   "cell_type": "code",
   "execution_count": 14,
   "metadata": {},
   "outputs": [
    {
     "name": "stdout",
     "output_type": "stream",
     "text": [
      "import re\n",
      "def phonenumbervalidater(number):\n",
      "   # re.compile(\"[+][9][1][6-9][0-9]{9}$\")\n",
      "    pattern =\"^[1-9][0-9]{9}$|^[0][6-9][0-9]{9}$|^[+][9][1][6-9][0-9]{9}$\"\n",
      "    if re.match(pattern,str(number)) :\n",
      "        return True \n",
      "    else:\n",
      "        return False\n",
      "def emailvalidater(email ):\n",
      "   # re.compile(\"[+][9][1][6-9][0-9]{9}$\")\n",
      "    pattern =\"^[a-z0-9][0-9a-z_.][0-9a-z]{4,13}[@][a-z]{3,18}[.][a-z]{2,4}$\"\n",
      "    if re.match(pattern,str(email)) :\n",
      "        return True \n",
      "    else:\n",
      "        return False\n"
     ]
    }
   ],
   "source": [
    "fname=\"Packages/validator.py\"\n",
    "print(readFile(fname))\n"
   ]
  },
  {
   "cell_type": "code",
   "execution_count": 15,
   "metadata": {},
   "outputs": [
    {
     "name": "stdout",
     "output_type": "stream",
     "text": [
      "not exist in the list\n"
     ]
    }
   ],
   "source": [
    "import re\n",
    "def searchcontact(name):\n",
    "    filename=\"datafiles/contacts.txt\"\n",
    "    with open(filename,'r') as f:\n",
    "        flag=0\n",
    "        filedata =csvTolist(filename)\n",
    "        for line in filedata:\n",
    "            if line[0]==name:\n",
    "                flag=1\n",
    "                print(','.join(line))\n",
    "        if flag==0:\n",
    "                 print(\"not exist in the list\")\n",
    "searchcontact(\"akash\")"
   ]
  },
  {
   "cell_type": "code",
   "execution_count": null,
   "metadata": {},
   "outputs": [],
   "source": [
    "print(readFile(filename))"
   ]
  },
  {
   "cell_type": "code",
   "execution_count": 16,
   "metadata": {},
   "outputs": [
    {
     "name": "stdout",
     "output_type": "stream",
     "text": [
      "not exist in the list\n",
      "tonystark,8297826965,tonystarksgpk@gmail.com\n",
      "pradeepgali,8297826965,tonystarksgpk@gmail.com\n",
      "\n"
     ]
    }
   ],
   "source": [
    "def deletecontact(name):\n",
    "    filename=\"datafiles/contacts.txt\"\n",
    "    with open(filename,'r+') as f:\n",
    "        flag=0\n",
    "        filedata =csvTolist(filename)\n",
    "        for i in range(len(filedata)):\n",
    "            if filedata[i]==name:\n",
    "                flag=1\n",
    "                filedata.pop(i)\n",
    "                f.write(ListTOfile(filedata))\n",
    "        if flag==0:\n",
    "                 print(\"not exist in the list\")\n",
    "deletecontact(\"pradeep\")\n",
    "print(readFile(filename))"
   ]
  },
  {
   "cell_type": "code",
   "execution_count": 18,
   "metadata": {},
   "outputs": [
    {
     "name": "stdout",
     "output_type": "stream",
     "text": [
      "pradeepgali,8297826965,tonystarksgpk@gmail.com\n",
      "\n"
     ]
    }
   ],
   "source": [
    "def searchcontact(name):\n",
    "    filename=\"datafiles/contacts.txt\"\n",
    "    with open(filename,'r') as f:\n",
    "        flag=0\n",
    "        filedata =csvTolist(filename)\n",
    "        for line in filedata:\n",
    "            if line[0]==name:\n",
    "                flag=1\n",
    "                print(','.join(line))\n",
    "        if flag==0:\n",
    "                 print(\"not exist in the list\")\n",
    "searchcontact(\"pradeepgali\")"
   ]
  },
  {
   "cell_type": "code",
   "execution_count": null,
   "metadata": {},
   "outputs": [],
   "source": [
    "print(readFile(filename))"
   ]
  },
  {
   "cell_type": "code",
   "execution_count": 58,
   "metadata": {},
   "outputs": [
    {
     "data": {
      "text/plain": [
       "1"
      ]
     },
     "execution_count": 58,
     "metadata": {},
     "output_type": "execute_result"
    }
   ],
   "source": [
    "def searchwithreturn(fname,name):\n",
    "    f1=csvTolist(fname)\n",
    "    flag=0\n",
    "    for i in range(len(f1)):\n",
    "         if name==f1[i][0]:\n",
    "                flag=1\n",
    "                return i\n",
    "    if flag==0:\n",
    "        return -1\n",
    "searchwithreturn(fname,'pradeepgali')"
   ]
  },
  {
   "cell_type": "code",
   "execution_count": 54,
   "metadata": {},
   "outputs": [
    {
     "name": "stdout",
     "output_type": "stream",
     "text": [
      "contact not found to remove\n"
     ]
    }
   ],
   "source": [
    "def remove(fname,name):\n",
    "    i=searchwithreturn(fname,name)\n",
    "    if i!=-1:\n",
    "        f1=csvTOlist(fname)\n",
    "        f1.pop(i)\n",
    "        s=listTOcsv(f1)\n",
    "        with open(fname,'w') as f:\n",
    "            f.write(s)\n",
    "    else:\n",
    "        print(\"contact not found to remove\")\n",
    "remove(fname,'raj')\n"
   ]
  },
  {
   "cell_type": "code",
   "execution_count": 62,
   "metadata": {},
   "outputs": [
    {
     "name": "stdout",
     "output_type": "stream",
     "text": [
      "pradeep\n",
      "tonystark,8297826965,tonystarksgpk@gmail.com\n",
      "pradeep,8297826965,tonystarksgpk@gmail.com\n",
      "\n"
     ]
    }
   ],
   "source": [
    "def modifycontact(fname,name,name2):\n",
    "    i=searchwithreturn(fname,name)\n",
    "    if i!=-1:\n",
    "        f1=csvTolist(fname)\n",
    "        f1[i][0]=name2\n",
    "        s=ListTOfile(f1)\n",
    "        print(s)\n",
    "        with open(fname,'w') as f:\n",
    "            f.write(s)\n",
    "    else:\n",
    "        print(\"contact not find\")\n",
    "    return\n",
    "  \n",
    "fname=\"datafiles/contacts.txt\"   \n",
    "modifycontact(fname,'pradeepgali',\"pradeep\")       "
   ]
  },
  {
   "cell_type": "code",
   "execution_count": 57,
   "metadata": {},
   "outputs": [
    {
     "name": "stdout",
     "output_type": "stream",
     "text": [
      "tonystark,8297826965,tonystarksgpk@gmail.com\n",
      "pradeepgali,8297826965,tonystarksgpk@gmail.com\n",
      "\n"
     ]
    }
   ],
   "source": [
    "print(readFile(fname))"
   ]
  },
  {
   "cell_type": "code",
   "execution_count": null,
   "metadata": {},
   "outputs": [],
   "source": []
  }
 ],
 "metadata": {
  "kernelspec": {
   "display_name": "Python 3",
   "language": "python",
   "name": "python3"
  },
  "language_info": {
   "codemirror_mode": {
    "name": "ipython",
    "version": 3
   },
   "file_extension": ".py",
   "mimetype": "text/x-python",
   "name": "python",
   "nbconvert_exporter": "python",
   "pygments_lexer": "ipython3",
   "version": "3.7.3"
  }
 },
 "nbformat": 4,
 "nbformat_minor": 2
}
