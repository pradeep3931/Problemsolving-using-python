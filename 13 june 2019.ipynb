{
 "cells": [
  {
   "cell_type": "code",
   "execution_count": null,
   "metadata": {},
   "outputs": [],
   "source": [
    "import math"
   ]
  },
  {
   "cell_type": "code",
   "execution_count": 13,
   "metadata": {},
   "outputs": [
    {
     "name": "stdout",
     "output_type": "stream",
     "text": [
      "enter number6\n",
      "25.5\n"
     ]
    }
   ],
   "source": [
    "#calclate a average of factorials in a given range\n",
    "def fact(n):\n",
    "    num=1\n",
    "    for i in range(1,n+1):\n",
    "        num=num*i\n",
    "    return num\n",
    "n=int(input(\"enter number\"))\n",
    "sum=0\n",
    "for i in range(1,n):\n",
    "    x=fact(i)\n",
    "    sum=sum+x\n",
    "    \n",
    "print(sum/6)        \n",
    "    "
   ]
  },
  {
   "cell_type": "code",
   "execution_count": 15,
   "metadata": {},
   "outputs": [
    {
     "name": "stdout",
     "output_type": "stream",
     "text": [
      "501 503 505 507 509 511 513 515 517 519 521 523 525 527 529 531 533 535 537 539 541 543 545 547 549 551 "
     ]
    }
   ],
   "source": [
    "def alter(lb,up):\n",
    "    for i in range(lb,up+1,2):\n",
    "        print(i+1,end=\" \")\n",
    "    return\n",
    "         \n",
    "    \n",
    "alter(500,550)\n",
    "    \n"
   ]
  },
  {
   "cell_type": "code",
   "execution_count": 16,
   "metadata": {},
   "outputs": [
    {
     "name": "stdout",
     "output_type": "stream",
     "text": [
      "Enter a number1546789\n",
      "not an amstrong\n"
     ]
    }
   ],
   "source": [
    "def amstrong(n):\n",
    "    sum=0\n",
    "    r=0\n",
    "    k=len(str(n))\n",
    "    while(n!=0):\n",
    "        r=n%10\n",
    "        sum=sum+(r**k)\n",
    "        n=n//10\n",
    "    return sum\n",
    "n=int(input(\"Enter a number\"))\n",
    "num=amstrong(n)\n",
    "if(num==n):\n",
    "    print(\"it is a amstrong number\")\n",
    "else:\n",
    "    print(\"not an amstrong\")"
   ]
  },
  {
   "cell_type": "code",
   "execution_count": 1,
   "metadata": {},
   "outputs": [
    {
     "data": {
      "text/plain": [
       "157800"
      ]
     },
     "execution_count": 1,
     "metadata": {},
     "output_type": "execute_result"
    }
   ],
   "source": [
    "from datetime import date \n",
    "f_date=date(1999,7,1)\n",
    "l_date=date(2017,7,1)\n",
    "dif=l_date-f_date\n",
    "dif.days*24\n"
   ]
  },
  {
   "cell_type": "code",
   "execution_count": 2,
   "metadata": {},
   "outputs": [
    {
     "data": {
      "text/plain": [
       "426"
      ]
     },
     "execution_count": 2,
     "metadata": {},
     "output_type": "execute_result"
    }
   ],
   "source": [
    "def leapyear(y):\n",
    "    if y%400==0 or (y%4==0 and y%100!=0):\n",
    "        return True\n",
    "    else:\n",
    "        return False\n",
    "def noofdays(m,y):\n",
    "    days=0\n",
    "    for i in range(m,13):\n",
    "        if i==2:\n",
    "            if leapyear(y):\n",
    "                days=days+29\n",
    "            else:\n",
    "                days=days+28\n",
    "        elif  i==4 or i==6 or i==9 or i==11:\n",
    "            days=days+30\n",
    "        else:\n",
    "            days=days+31\n",
    "    return days\n",
    "def noofdays2(m,y):\n",
    "    days=0\n",
    "    for i in range(1,m+1):\n",
    "        if i==2:\n",
    "            if leapyear(y):\n",
    "                days=days+29\n",
    "            else:\n",
    "                days=days+28\n",
    "        elif  i==4 or i==6 or i==9 or i==11:\n",
    "            days=days+30\n",
    "        else:\n",
    "            days=days+31\n",
    "    return days\n",
    "def diffdays(y1,y2):\n",
    "    days=0\n",
    "    for i in range(y1+1,y2):\n",
    "        if leapyear(i):\n",
    "            days+=366\n",
    "        else:\n",
    "            days+=365\n",
    "    return days\n",
    "def totaldays(m1,y1,m2,y2):\n",
    "    res=0\n",
    "    res=res+(diffdays(y1,y2))+(noofdays(m1,y1))+(noofdays2(m2,y2))\n",
    "    return res\n",
    "\n",
    "totaldays(6,2018,7,2018)\n",
    "#leapyear(2015)\n",
    "#diffdays(1999,2018)\n",
    "#diffdays(2016,2018)\n",
    "#noofdays2(3,2018)"
   ]
  },
  {
   "cell_type": "code",
   "execution_count": 109,
   "metadata": {},
   "outputs": [
    {
     "data": {
      "text/plain": [
       "False"
      ]
     },
     "execution_count": 109,
     "metadata": {},
     "output_type": "execute_result"
    }
   ],
   "source": [
    "leapyear(2018)"
   ]
  },
  {
   "cell_type": "code",
   "execution_count": 125,
   "metadata": {},
   "outputs": [
    {
     "data": {
      "text/plain": [
       "821"
      ]
     },
     "execution_count": 125,
     "metadata": {},
     "output_type": "execute_result"
    }
   ],
   "source": [
    "366+365+31+28+31\n"
   ]
  },
  {
   "cell_type": "code",
   "execution_count": 116,
   "metadata": {},
   "outputs": [
    {
     "data": {
      "text/plain": [
       "40"
      ]
     },
     "execution_count": 116,
     "metadata": {},
     "output_type": "execute_result"
    }
   ],
   "source": [
    "337-297"
   ]
  },
  {
   "cell_type": "code",
   "execution_count": 118,
   "metadata": {},
   "outputs": [
    {
     "data": {
      "text/plain": [
       "40"
      ]
     },
     "execution_count": 118,
     "metadata": {},
     "output_type": "execute_result"
    }
   ],
   "source": [
    "703-663"
   ]
  },
  {
   "cell_type": "code",
   "execution_count": 120,
   "metadata": {},
   "outputs": [
    {
     "data": {
      "text/plain": [
       "39"
      ]
     },
     "execution_count": 120,
     "metadata": {},
     "output_type": "execute_result"
    }
   ],
   "source": [
    "227-188"
   ]
  },
  {
   "cell_type": "code",
   "execution_count": 22,
   "metadata": {},
   "outputs": [
    {
     "data": {
      "text/plain": [
       "3664872"
      ]
     },
     "execution_count": 22,
     "metadata": {},
     "output_type": "execute_result"
    }
   ],
   "source": [
    "def leapyear(y):\n",
    "    if y%400==0 or (y%4==0 and y%100!=0):\n",
    "        return True\n",
    "    else:\n",
    "        return False\n",
    "def noofdays(m,y):\n",
    "    days=0\n",
    "    for i in range(m,13):\n",
    "        if i==2:\n",
    "            if leapyear(y):\n",
    "                days=days+29\n",
    "            else:\n",
    "                days=days+28\n",
    "        elif  i==4 or i==6 or i==9 or i==11:\n",
    "            days=days+30\n",
    "        else:\n",
    "            days=days+31\n",
    "    return days\n",
    "def noofdays2(m,y):\n",
    "    days=0\n",
    "    for i in range(1,m+1):\n",
    "        if i==2:\n",
    "            if leapyear(y):\n",
    "                days=days+29\n",
    "            else:\n",
    "                days=days+28\n",
    "        elif  i==4 or i==6 or i==9 or i==11:\n",
    "            days=days+30\n",
    "        else:\n",
    "            days=days+31\n",
    "    return days\n",
    "def diffdays(y1,y2):\n",
    "    days=0\n",
    "    for i in range(y1+1,y2):\n",
    "        if leapyear(i):\n",
    "            days+=366\n",
    "        else:\n",
    "            days+=365\n",
    "    return days\n",
    "def totaldays(m1,y1,m2,y2):\n",
    "    res=0\n",
    "    if y1==y2:\n",
    "        for i in range(m1,m2+1):\n",
    "            if i==2:\n",
    "                if leapyear(y):\n",
    "                    res=res+29\n",
    "                else:\n",
    "                    res=res+28\n",
    "            elif  i==4 or i==6 or i==9 or i==11:\n",
    "                res=res+30\n",
    "            else:\n",
    "                res=res+31\n",
    "    else:\n",
    "        res=res+(diffdays(y1,y2))+(noofdays(m1,y1))+(noofdays2(m2,y2))\n",
    "    return res\n",
    "\n",
    "totaldays(1,1600,1,2018)*24\n",
    "#leapyear(2015)\n",
    "#diffdays(1999,2018)\n",
    "#diffdays(2016,2018)\n",
    "#noofdays2(3,2018)"
   ]
  },
  {
   "cell_type": "code",
   "execution_count": 5,
   "metadata": {},
   "outputs": [
    {
     "data": {
      "text/plain": [
       "5"
      ]
     },
     "execution_count": 5,
     "metadata": {},
     "output_type": "execute_result"
    }
   ],
   "source": [
    "l=[1,2,3,4,5]\n",
    "l.pop()"
   ]
  },
  {
   "cell_type": "code",
   "execution_count": null,
   "metadata": {},
   "outputs": [],
   "source": []
  }
 ],
 "metadata": {
  "kernelspec": {
   "display_name": "Python 3",
   "language": "python",
   "name": "python3"
  },
  "language_info": {
   "codemirror_mode": {
    "name": "ipython",
    "version": 3
   },
   "file_extension": ".py",
   "mimetype": "text/x-python",
   "name": "python",
   "nbconvert_exporter": "python",
   "pygments_lexer": "ipython3",
   "version": "3.7.3"
  }
 },
 "nbformat": 4,
 "nbformat_minor": 2
}
