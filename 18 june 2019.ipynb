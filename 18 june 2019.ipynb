{
 "cells": [
  {
   "cell_type": "markdown",
   "metadata": {},
   "source": [
    "## Problems:Perfect num\n"
   ]
  },
  {
   "cell_type": "code",
   "execution_count": null,
   "metadata": {},
   "outputs": [],
   "source": [
    "n=int(input())\n",
    "for i in range(1,n+1):\n",
    "    m=int(input())\n",
    "    sum=0\n",
    "    for j in range(1,m):\n",
    "        if m%j==0:\n",
    "            sum+=j\n",
    "    if(sum==m):\n",
    "        print(\"YES\")\n",
    "    else:\n",
    "        print(\"NO\")"
   ]
  },
  {
   "cell_type": "markdown",
   "metadata": {},
   "source": [
    "## counting the No of digits in a string"
   ]
  },
  {
   "cell_type": "code",
   "execution_count": null,
   "metadata": {},
   "outputs": [],
   "source": [
    "str=input()\n",
    "l=0\n",
    "d=0\n",
    "for i in str:\n",
    "    if i.isdigit():\n",
    "        d+=1\n",
    "    if i.isalpha():\n",
    "        l+=1\n",
    "print(l)\n",
    "print(d)\n",
    "\n",
    "        \n",
    "    "
   ]
  },
  {
   "cell_type": "markdown",
   "metadata": {},
   "source": [
    "## printing the heighest remainder possible"
   ]
  },
  {
   "cell_type": "code",
   "execution_count": null,
   "metadata": {},
   "outputs": [],
   "source": [
    "import math\n",
    "n=int(input())\n",
    "max=-9999\n",
    "for i in range(1,n+1):\n",
    "    m=int(input())\n",
    "    r=0\n",
    "    num=0\n",
    "    for j in range (n-1,n//2,-1):\n",
    "        r=n%j\n",
    "        if r>max:\n",
    "            max=r\n",
    "            num=i\n",
    "    print(num)\n",
    "\n",
    "        \n",
    "            \n",
    "    \n",
    "    "
   ]
  },
  {
   "cell_type": "markdown",
   "metadata": {},
   "source": [
    "## play with numbers"
   ]
  },
  {
   "cell_type": "code",
   "execution_count": null,
   "metadata": {},
   "outputs": [],
   "source": [
    "n,q=map(int,input().split())\n",
    "a=input().split()\n",
    "sum=[]\n",
    "for i in  range(0,n):\n",
    "    if i==0:\n",
    "        sum.append(int (a[i]))\n",
    "    else:\n",
    "        sum.append(int(sum[i-1])+int(a[i]))\n",
    "print(sum)\n",
    "for k in range(0,q):\n",
    "    i,j =map(int,input().split())\n",
    "    if i>1:\n",
    "        print((sum[j-1])-sum[i-2]//(j-i+1))\n",
    "    else:\n",
    "        print(sum[j-1]//(j-i+1))"
   ]
  },
  {
   "cell_type": "markdown",
   "metadata": {},
   "source": []
  },
  {
   "cell_type": "code",
   "execution_count": null,
   "metadata": {},
   "outputs": [],
   "source": [
    "def isprime(n):\n",
    "    flag=1\n",
    "    if n==2:\n",
    "        return True\n",
    "    else:\n",
    "        for i in range(2,n//2+1):\n",
    "            if n%i==0:\n",
    "                flag=0\n",
    "                return False\n",
    "        if flag==1:\n",
    "            return True\n",
    "def numberprimeFactors(n):\n",
    "    count=0\n",
    "    if isprime(n):\n",
    "        return 1\n",
    "    else:\n",
    "        for i in range (2,n//2+1):\n",
    "            if  n%i== 0 and isprime(i):\n",
    "                count+=1\n",
    "        return count\n",
    "def specialnumber(n,p):\n",
    "    if numberprimeFactors(n)>=p:\n",
    "        return True\n",
    "    return False\n",
    "print (specialnumber(6,2))  \n",
    "    \n",
    "\n"
   ]
  },
  {
   "cell_type": "markdown",
   "metadata": {},
   "source": [
    "### Tuples\n",
    "t1=()\n",
    "li=[]\n",
    "Difference between Lists nad Tuples <br>\n",
    "* lists mutable -canbe changed <br>\n",
    "* used to access modify/delete \n",
    "* Tuples immutables \n",
    "* used to access only\n"
   ]
  },
  {
   "cell_type": "code",
   "execution_count": 14,
   "metadata": {},
   "outputs": [
    {
     "data": {
      "text/plain": [
       "list"
      ]
     },
     "execution_count": 14,
     "metadata": {},
     "output_type": "execute_result"
    }
   ],
   "source": [
    "t=(1,2,3,4,5,6)\n",
    "t[3]#accesing the forth element\n",
    "t[::-1]\n",
    "t[2:]\n",
    "t[len(t)//2:]\n",
    "t[::2] #odd index\n",
    "type(t)"
   ]
  },
  {
   "cell_type": "markdown",
   "metadata": {},
   "source": [
    " ## Dictionaries \n",
    " Its works on the consep of Set<br>\n",
    " It contains keys,values<br>\n",
    " key - Identifier for  a value<br>\n",
    " Value -data that can be access with a key<br>\n",
    " {}<br>\n",
    " \n",
    " "
   ]
  },
  {
   "cell_type": "code",
   "execution_count": 34,
   "metadata": {},
   "outputs": [
    {
     "data": {
      "text/plain": [
       "False"
      ]
     },
     "execution_count": 34,
     "metadata": {},
     "output_type": "execute_result"
    }
   ],
   "source": [
    "d={\"k1\":\"value\",\"k2\":\"value2\"}\n",
    "d[\"k2\"] # acccesing the values \n",
    "d.keys()# return list of all keys\n",
    "d.values()#return list of all values\n",
    "d.items()#return list of tuples\n",
    "d[\"k3\"]=\"values3\"#adding am element \n",
    "d[\"k3\"]=\"value4\"#updating an element\n",
    "\n",
    "d.pop(\"k3\")\n",
    "\n",
    "\"k3\" in d"
   ]
  },
  {
   "cell_type": "markdown",
   "metadata": {},
   "source": [
    "# contacts application\n",
    "* add\n",
    "* search \n",
    "* modify\n",
    "* remove\n",
    "* list  "
   ]
  },
  {
   "cell_type": "code",
   "execution_count": 55,
   "metadata": {},
   "outputs": [
    {
     "name": "stdout",
     "output_type": "stream",
     "text": [
      "contact added\n",
      "hii does not exists\n",
      "{'pradeep': 8297826965, 'pspk': 9640398157}\n",
      "contact removed\n",
      "{'pradeep': 8297826965}\n",
      "dict_keys(['pradeep']) : dict_values([8297826965])\n",
      "2 added successfully\n",
      "{'pradeep': 8297826965, 'name2': 9876543210, 'name3': 98374112319}\n"
     ]
    }
   ],
   "source": [
    "#contacts Application \n",
    "contacts={}\n",
    "def addcontact(name,phone):\n",
    "    if name not in contacts: #Verify the contact does not already exists\n",
    "        contacts[name]=phone\n",
    "        print(\"contact added\")\n",
    "    else:\n",
    "        print(\"try another name \")\n",
    "def Searchcontact(k):\n",
    "    if k in contacts:\n",
    "        print(k,\":\",contacts[k])\n",
    "    else:\n",
    "        print(\"%s does not exists\"%k)\n",
    "def modify(name,phone):\n",
    "        contacts[name]=phone\n",
    "        print(contacts)\n",
    "def remove(k):\n",
    "    if k in contacts:\n",
    "        contacts.pop(k)\n",
    "        print(\"contact removed\")\n",
    "        print(contacts)\n",
    "    else:\n",
    "        print(\"contacts not found\")\n",
    "        print(contacts)\n",
    "def list():\n",
    "    print(contacts.keys(),\":\",contacts.values())\n",
    "def importcontacts(newcontact):\n",
    "            contacts.update(newcontact)         #newcontacts are given in dictonary \n",
    "            print (len(newcontact.keys()),\"added successfully\")      #merge tthe contacts \n",
    "            print(contacts)\n",
    "\n",
    "addcontact(\"pradeep\",8297826965)\n",
    "Searchcontact(\"hii\")\n",
    "modify(\"pspk\",9640398157)\n",
    "remove(\"pspk\")\n",
    "list()\n",
    "new={\"name2\":9876543210,\"name3\":98374112319}\n",
    "importcontacts(new)\n"
   ]
  },
  {
   "cell_type": "markdown",
   "metadata": {},
   "source": [
    "# Packages and Modules\n",
    "- Packages --> Collection of Modules(python files .py)\n",
    "- module --->Python files with diff Functions \n",
    "* Packages->subPackages->Modules->Functions"
   ]
  },
  {
   "cell_type": "code",
   "execution_count": 6,
   "metadata": {},
   "outputs": [
    {
     "data": {
      "text/plain": [
       "3.141592653589793"
      ]
     },
     "execution_count": 6,
     "metadata": {},
     "output_type": "execute_result"
    }
   ],
   "source": [
    "import math\n",
    "#\"from math import floor\" importing the module that we wanted\n",
    "#\"form math import floor as f\" -> renaming the package which is works in that file scope\n",
    "math.floor(123.124)\n",
    "math.pi\n",
    "\n"
   ]
  },
  {
   "cell_type": "code",
   "execution_count": 37,
   "metadata": {},
   "outputs": [
    {
     "name": "stdout",
     "output_type": "stream",
     "text": [
      "40 83 8 35 97 92 21 52 49 95 "
     ]
    }
   ],
   "source": [
    "#Define a fuction to genarate n random numbers\n",
    "import random \n",
    "def nRandomNumbers(n,lb,ub):\n",
    "    for i in range(0,n):\n",
    "        print(random.randint(0,100),end=\" \")\n",
    "nRandomNumbers(10,0,100)"
   ]
  },
  {
   "cell_type": "code",
   "execution_count": 6,
   "metadata": {},
   "outputs": [
    {
     "data": {
      "text/plain": [
       "2"
      ]
     },
     "execution_count": 6,
     "metadata": {},
     "output_type": "execute_result"
    }
   ],
   "source": [
    "2%10"
   ]
  },
  {
   "cell_type": "code",
   "execution_count": null,
   "metadata": {},
   "outputs": [],
   "source": [
    "for _ in range(int(input())):\n",
    "    n=int(input())\n",
    "    l=[]\n",
    "    t=n%10\n",
    "    if n==0:\n",
    "        print(111)\n",
    "    elif n==7 or n==1:\n",
    "        print(n)\n",
    "        \n",
    "    else:\n",
    "           while n!=0:\n",
    "                if t==2 or t==3  or t==5:\n",
    "                    l.append(71)\n",
    "                    n=n//10\n",
    "                elif t==4 or t==6 :\n",
    "                    for j in range(1,t//2+1):\n",
    "                        l.append(1)\n",
    "print(l)\n",
    "                        "
   ]
  },
  {
   "cell_type": "code",
   "execution_count": null,
   "metadata": {},
   "outputs": [],
   "source": []
  }
 ],
 "metadata": {
  "kernelspec": {
   "display_name": "Python 3",
   "language": "python",
   "name": "python3"
  },
  "language_info": {
   "codemirror_mode": {
    "name": "ipython",
    "version": 3
   },
   "file_extension": ".py",
   "mimetype": "text/x-python",
   "name": "python",
   "nbconvert_exporter": "python",
   "pygments_lexer": "ipython3",
   "version": "3.7.3"
  }
 },
 "nbformat": 4,
 "nbformat_minor": 2
}
