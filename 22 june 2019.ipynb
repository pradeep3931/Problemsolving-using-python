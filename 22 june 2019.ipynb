{
 "cells": [
  {
   "cell_type": "markdown",
   "metadata": {},
   "source": [
    "## Day Objective\n",
    "- file Handling \n",
    "    - Basic File Data Proccessing\n",
    "       - Accessing and Modifyint File\n",
    "    - charactor count\n",
    "    - Line count\n",
    "    - File size\n",
    "    - Word count\n",
    "    - unique word count           \n"
   ]
  },
  {
   "cell_type": "code",
   "execution_count": 1,
   "metadata": {},
   "outputs": [],
   "source": [
    "#if u want f.read() file should exists\n",
    "#write to a file file can exists or new fille created\n",
    "import os\n",
    "def readFile(filename):\n",
    "    f=open(filename,'r')\n",
    "    filedata=f.read()\n",
    "    f.close()\n",
    "    return filedata \n"
   ]
  },
  {
   "cell_type": "code",
   "execution_count": 2,
   "metadata": {},
   "outputs": [
    {
     "data": {
      "text/plain": [
       "90"
      ]
     },
     "execution_count": 2,
     "metadata": {},
     "output_type": "execute_result"
    }
   ],
   "source": [
    "import os\n",
    "b = os.path.getsize(\"datafiles/contacts.txt\")\n",
    "b\n"
   ]
  },
  {
   "cell_type": "code",
   "execution_count": 3,
   "metadata": {},
   "outputs": [
    {
     "name": "stdout",
     "output_type": "stream",
     "text": [
      "58 20 2\n",
      "tonystark,8297826965,tonystarksgpk@gmail.com\n",
      "pradeep,8297826965,tonystarksgpk@gmail.com\n",
      "\n"
     ]
    }
   ],
   "source": [
    "fname=\"datafiles/contacts.txt\"\n",
    "f=readFile(fname)\n",
    "count=0\n",
    "n=0\n",
    "l=0\n",
    "for i in f:\n",
    "    if i.isalpha():\n",
    "        count+=1\n",
    "    if i.isdigit():\n",
    "        n+=1\n",
    "    if i==\"\\n\":\n",
    "        l+=1\n",
    "    \n",
    "print(count,n,l)\n",
    "print(readFile(fname))\n"
   ]
  },
  {
   "cell_type": "code",
   "execution_count": 4,
   "metadata": {},
   "outputs": [
    {
     "name": "stdout",
     "output_type": "stream",
     "text": [
      "6\n",
      "['new', 'data1', 'newdata2', 'new', 'data4', 'newdata5']\n",
      "None\n",
      "\n",
      "new data1\n",
      "newdata2\n",
      "new data4\n",
      "newdata5 \n"
     ]
    }
   ],
   "source": [
    "def wordcount(filename):\n",
    "    f=readFile(fname)\n",
    "    count=0\n",
    "    l=f.split()\n",
    "    print(len(l))\n",
    "    print (l)\n",
    "fname=\"datafiles/data.txt\"\n",
    "print(wordcount(fname))\n",
    "print(readFile(fname))"
   ]
  },
  {
   "cell_type": "code",
   "execution_count": 5,
   "metadata": {},
   "outputs": [
    {
     "data": {
      "text/plain": [
       "4"
      ]
     },
     "execution_count": 5,
     "metadata": {},
     "output_type": "execute_result"
    }
   ],
   "source": [
    "def charcount(fname,char):\n",
    "    f=readFile(fname)\n",
    "    count=0\n",
    "    for i in range(len(f)):\n",
    "        if f[i]==char:\n",
    "            count=count+1\n",
    "    return count \n",
    "charcount(fname,'\\n')"
   ]
  },
  {
   "cell_type": "code",
   "execution_count": 6,
   "metadata": {},
   "outputs": [
    {
     "data": {
      "text/plain": [
       "4"
      ]
     },
     "execution_count": 6,
     "metadata": {},
     "output_type": "execute_result"
    }
   ],
   "source": [
    "def linecount(fname):\n",
    "    f=readFile(fname)\n",
    "    count=0\n",
    "    for i in range(len(f)):\n",
    "        if f[i]=='\\n':\n",
    "            count=count+1\n",
    "    return count \n",
    "linecount(fname)"
   ]
  },
  {
   "cell_type": "code",
   "execution_count": null,
   "metadata": {},
   "outputs": [
    {
     "name": "stdout",
     "output_type": "stream",
     "text": [
      "1\n",
      "\n",
      "new data1\n",
      "newdata2\n",
      "new data4\n",
      "newdata5 \n"
     ]
    }
   ],
   "source": [
    "def wordcount(filename,name):\n",
    "    f=readFile(fname)\n",
    "    count=0\n",
    "    l=list(f.split())\n",
    "    for i in range(len(l)):\n",
    "        if l[i]==name:\n",
    "            count+=1\n",
    "    return count\n",
    "fname=\"datafiles/data.txt\"\n",
    "print(wordcount(fname,\"newdata2\"))\n",
    "print(readFile(fname))"
   ]
  },
  {
   "cell_type": "code",
   "execution_count": null,
   "metadata": {},
   "outputs": [],
   "source": [
    "def uniqueword(fname):\n",
    "    f=readFile(fname)\n",
    "    l=list(f.split())\n",
    "    for i in l:\n",
    "        print(i,l.count(i))\n",
    "        print(\"unique words\")\n",
    "        if l.count(i)==1:\n",
    "            print(i)\n",
    "uniqueword(fname)"
   ]
  },
  {
   "cell_type": "code",
   "execution_count": null,
   "metadata": {},
   "outputs": [],
   "source": [
    "n=int(input())\n",
    "l=list(map(int,input().split()))\n",
    "q=int(input())\n",
    "for j in range(q):\n",
    "    d=int(input())\n",
    "    c=0\n",
    "    for i in range(len(l)):\n",
    "        if l[i]==d:\n",
    "            c+=1\n",
    "    if c>0:\n",
    "        print(c)\n",
    "    else:\n",
    "        print (\"NOT PRESENT\" )    "
   ]
  },
  {
   "cell_type": "code",
   "execution_count": 16,
   "metadata": {},
   "outputs": [
    {
     "name": "stdout",
     "output_type": "stream",
     "text": [
      "117\n"
     ]
    }
   ],
   "source": [
    "print(int('1110101',2))"
   ]
  },
  {
   "cell_type": "code",
   "execution_count": null,
   "metadata": {},
   "outputs": [],
   "source": []
  },
  {
   "cell_type": "code",
   "execution_count": null,
   "metadata": {},
   "outputs": [],
   "source": []
  }
 ],
 "metadata": {
  "kernelspec": {
   "display_name": "Python 3",
   "language": "python",
   "name": "python3"
  },
  "language_info": {
   "codemirror_mode": {
    "name": "ipython",
    "version": 3
   },
   "file_extension": ".py",
   "mimetype": "text/x-python",
   "name": "python",
   "nbconvert_exporter": "python",
   "pygments_lexer": "ipython3",
   "version": "3.7.3"
  }
 },
 "nbformat": 4,
 "nbformat_minor": 2
}
