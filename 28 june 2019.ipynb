{
 "cells": [
  {
   "cell_type": "markdown",
   "metadata": {},
   "source": [
    "### Day objectives:\n",
    "- Map \n",
    "- lambda\n",
    "- Filter \n",
    "- Use cases - File/Data Encryption "
   ]
  },
  {
   "cell_type": "markdown",
   "metadata": {},
   "source": [
    "  ### map \n",
    "  - mapping ->entity with a function \n",
    "  - f(x)->\n",
    "  - m f:x^2 + 3*x + 9\n",
    "  - x:[1,10]\n",
    "  - "
   ]
  },
  {
   "cell_type": "code",
   "execution_count": 38,
   "metadata": {},
   "outputs": [
    {
     "data": {
      "text/plain": [
       "27"
      ]
     },
     "execution_count": 38,
     "metadata": {},
     "output_type": "execute_result"
    }
   ],
   "source": [
    "## Example to map \n",
    "def power(a,n):\n",
    "  #1st method:\n",
    "      #return a ** n\n",
    "   #2nd method :\n",
    "        #for i in range(1,n):  \n",
    "        #     a*=a \n",
    "   #3rd method:\n",
    "        if n==0:\n",
    "            return 1\n",
    "        else :\n",
    "            return a * power(a,n-1)\n",
    "power(2,0)\n",
    "def cubes(n):\n",
    "    return n ** 3\n",
    "cubes(3)"
   ]
  },
  {
   "cell_type": "code",
   "execution_count": 39,
   "metadata": {},
   "outputs": [
    {
     "data": {
      "text/plain": [
       "{1, 8, 27, 64}"
      ]
     },
     "execution_count": 39,
     "metadata": {},
     "output_type": "execute_result"
    }
   ],
   "source": [
    "li=[1,2,3,4]\n",
    "set(map(cubes,li))"
   ]
  },
  {
   "cell_type": "code",
   "execution_count": 46,
   "metadata": {},
   "outputs": [
    {
     "data": {
      "text/plain": [
       "[1, 32, 243, 1024]"
      ]
     },
     "execution_count": 46,
     "metadata": {},
     "output_type": "execute_result"
    }
   ],
   "source": [
    "list(map(lambda x:x**5,li))"
   ]
  },
  {
   "cell_type": "code",
   "execution_count": 66,
   "metadata": {},
   "outputs": [
    {
     "data": {
      "text/plain": [
       "['1', '2', '3']"
      ]
     },
     "execution_count": 66,
     "metadata": {},
     "output_type": "execute_result"
    }
   ],
   "source": [
    "### filter() \n",
    "# Used to check boolen values\n",
    "li =['1','2','a','c','b','3']\n",
    "def isDigit(c):\n",
    "    if c.isdigit():\n",
    "            return 1\n",
    "    return 0\n",
    "isDigit('1')\n",
    "l=list(filter(isDigit,li))\n",
    "l"
   ]
  },
  {
   "cell_type": "code",
   "execution_count": 67,
   "metadata": {},
   "outputs": [
    {
     "data": {
      "text/plain": [
       "0"
      ]
     },
     "execution_count": 67,
     "metadata": {},
     "output_type": "execute_result"
    }
   ],
   "source": [
    "n=1\n",
    "for i "
   ]
  },
  {
   "cell_type": "code",
   "execution_count": 3,
   "metadata": {},
   "outputs": [
    {
     "data": {
      "text/plain": [
       "False"
      ]
     },
     "execution_count": 3,
     "metadata": {},
     "output_type": "execute_result"
    }
   ],
   "source": [
    "import sympy \n",
    "sympy.isprime(4)"
   ]
  },
  {
   "cell_type": "code",
   "execution_count": 13,
   "metadata": {},
   "outputs": [
    {
     "data": {
      "text/plain": [
       "[503, 509, 521, 523, 541, 547, 557, 563, 569, 571, 577, 587, 593, 599]"
      ]
     },
     "execution_count": 13,
     "metadata": {},
     "output_type": "execute_result"
    }
   ],
   "source": [
    "li=[1,2,3,4,5,7,9]\n",
    "list(filter(sympy.isprime,range(500,600)))"
   ]
  },
  {
   "cell_type": "code",
   "execution_count": 17,
   "metadata": {},
   "outputs": [
    {
     "data": {
      "text/plain": [
       "[503, 509, 521, 523, 541, 547, 557, 563, 569, 571, 577, 587, 593, 599]"
      ]
     },
     "execution_count": 17,
     "metadata": {},
     "output_type": "execute_result"
    }
   ],
   "source": [
    "# using list comprehension\n",
    "l=[i for i in range(500,600) if sympy.isprime(i)]\n",
    "l"
   ]
  },
  {
   "cell_type": "code",
   "execution_count": 22,
   "metadata": {},
   "outputs": [],
   "source": [
    "# Map fails to check conditions\n",
    "# Add elememts of two lists and\n",
    "# lambda expressions ==>anonymous Fucntion :Can be embeded into itarables(lists comprehension,maps,filters)\n",
    "#lambda "
   ]
  },
  {
   "cell_type": "code",
   "execution_count": 79,
   "metadata": {},
   "outputs": [
    {
     "data": {
      "text/plain": [
       "[1, 3, 5, 7, 9]"
      ]
     },
     "execution_count": 79,
     "metadata": {},
     "output_type": "execute_result"
    }
   ],
   "source": [
    "a=list(map(lambda x: x&1 ,range(1,10)))\n",
    "b=list(filter(lambda x:x&1==1,range(1,10))\n",
    "a\n",
    "b"
   ]
  },
  {
   "cell_type": "code",
   "execution_count": 95,
   "metadata": {},
   "outputs": [
    {
     "name": "stdout",
     "output_type": "stream",
     "text": [
      "[10, 9, 24, 10, 19, 6, 13, 18, 7, 7]\n",
      "[10, 19, 2, 23, 13, 10, 22, 16, 5, 17]\n"
     ]
    },
    {
     "data": {
      "text/plain": [
       "[10.0, 14.0, 13.0, 16.5, 16.0, 8.0, 17.5, 17.0, 6.0, 12.0]"
      ]
     },
     "execution_count": 95,
     "metadata": {},
     "output_type": "execute_result"
    }
   ],
   "source": [
    "import random\n",
    "internal=[random.randint(0,25) for i in range(10)]\n",
    "internal2=[random.randint(0,25) for i in range(10)]\n",
    "avarege=list(map(lambda a,b:(a+b)/2,internal,internal2))\n",
    "print(internal)\n",
    "print(internal2)\n",
    "avarege\n"
   ]
  },
  {
   "cell_type": "code",
   "execution_count": 104,
   "metadata": {},
   "outputs": [
    {
     "data": {
      "text/plain": [
       "[2, 3, 5, 7]"
      ]
     },
     "execution_count": 104,
     "metadata": {},
     "output_type": "execute_result"
    }
   ],
   "source": [
    "#prime number r\"^1?$|^(11+?)\\1+$\",\"1\" *num\n",
    "import re \n",
    "def is_prime(num): return not re.match(r\"^1?$|^(11+?)\\1+$\", \"1\" * num)\n",
    "def pri(num): return is_prime(num)\n",
    "is_prime(3)\n",
    "[i for i in range(10) if not  re.match(r\"^1?$|^(11+?)\\1+$\", \"1\" * i)]def "
   ]
  },
  {
   "cell_type": "code",
   "execution_count": 2,
   "metadata": {},
   "outputs": [],
   "source": [
    "from random import randint\n",
    "def genaratemarks(n,lb,ub):\n",
    "    fname=\"datafiles/marks.txt\"\n",
    "    \n",
    "    with open(fname,\"w\") as f:\n",
    "        for i in range(n):\n",
    "            f.write(str(randint(lb,ub))+'\\n')\n",
    "            \n",
    "genaratemarks(100,10,100)"
   ]
  },
  {
   "cell_type": "code",
   "execution_count": 61,
   "metadata": {},
   "outputs": [
    {
     "data": {
      "text/plain": [
       "52.98"
      ]
     },
     "execution_count": 61,
     "metadata": {},
     "output_type": "execute_result"
    }
   ],
   "source": [
    "import re\n",
    "def calssavarage(fname):\n",
    "    with open(fname,'r') as f:\n",
    "        fdata=f.read().split()\n",
    "        marks=list(map(int,fdata))\n",
    "    return sum(marks)/len(marks) \n",
    "fname=\"datafiles/test.txt\"\n",
    "calssavarage(fname)"
   ]
  },
  {
   "cell_type": "code",
   "execution_count": 62,
   "metadata": {},
   "outputs": [
    {
     "data": {
      "text/plain": [
       "73.0"
      ]
     },
     "execution_count": 62,
     "metadata": {},
     "output_type": "execute_result"
    }
   ],
   "source": [
    "def percentagepass(fname):\n",
    "    with open(fname,'r') as f:\n",
    "        fdata=f.read().split()\n",
    "        marks=list(map(int,fdata))\n",
    "        li=list(filter(lambda x:x>=35,marks))\n",
    "    return len(li)/len(marks)*100\n",
    "percentagepass(fname)"
   ]
  },
  {
   "cell_type": "code",
   "execution_count": 40,
   "metadata": {},
   "outputs": [
    {
     "data": {
      "text/plain": [
       "22.0"
      ]
     },
     "execution_count": 40,
     "metadata": {},
     "output_type": "execute_result"
    }
   ],
   "source": [
    "def percentagefail(fname):\n",
    "    with open(fname,'r') as f:\n",
    "        fdata=f.read().split()\n",
    "        marks=list(map(int,fdata))\n",
    "        li=list(filter(lambda x:x<35,marks))\n",
    "    return len(li)/len(marks)*100\n",
    "percentagefail(fname)"
   ]
  },
  {
   "cell_type": "code",
   "execution_count": 63,
   "metadata": {},
   "outputs": [
    {
     "data": {
      "text/plain": [
       "1"
      ]
     },
     "execution_count": 63,
     "metadata": {},
     "output_type": "execute_result"
    }
   ],
   "source": [
    "def highfreq(fname):\n",
    "    with open(fname,'r') as f:\n",
    "        fdata=f.read().split()\n",
    "        marks=list(map(int,fdata))\n",
    "    return marks.count(max(marks))\n",
    "distintion(fname)"
   ]
  },
  {
   "cell_type": "code",
   "execution_count": 65,
   "metadata": {},
   "outputs": [
    {
     "data": {
      "text/plain": [
       "1"
      ]
     },
     "execution_count": 65,
     "metadata": {},
     "output_type": "execute_result"
    }
   ],
   "source": [
    "def Lowestfreq(fname):\n",
    "    with open(fname,'r') as f:\n",
    "        fdata=f.read().split()\n",
    "        marks=list(map(int,fdata))\n",
    "    return marks.count(min(marks))\n",
    "distintion(fname)"
   ]
  },
  {
   "cell_type": "markdown",
   "metadata": {},
   "source": [
    "## Data Encription \n",
    "- key->mapping of the charcters  with replace \n",
    "- "
   ]
  },
  {
   "cell_type": "code",
   "execution_count": 68,
   "metadata": {},
   "outputs": [],
   "source": [
    "#Function to genarate key for encryption with replace\n",
    "keypath='datafiles/key.txt'\n",
    "def genarate(keypath):\n",
    "    with open(keypath,'w') as f:\n",
    "        for i in range(10):\n",
    "            if i<6:\n",
    "                f.write(str(i)+ ' '+str(i+4)+'\\n')\n",
    "            else:\n",
    "                f.write(str(i)+ ' '+str(i-6)+'\\n')\n",
    "        return\n",
    "genarate(keypath)"
   ]
  },
  {
   "cell_type": "code",
   "execution_count": 76,
   "metadata": {},
   "outputs": [
    {
     "data": {
      "text/plain": [
       "{'1': '5',\n",
       " '2': '6',\n",
       " '3': '7',\n",
       " '4': '8',\n",
       " '5': '9',\n",
       " '6': '0',\n",
       " '7': '1',\n",
       " '8': '2',\n",
       " '9': '3'}"
      ]
     },
     "execution_count": 76,
     "metadata": {},
     "output_type": "execute_result"
    }
   ],
   "source": [
    "def dictkeyfile(keyfile):\n",
    "    key={}\n",
    "    with open(keyfile,\"r\") as f:\n",
    "        line=f.readline().split()\n",
    "        for line in f:\n",
    "            line=line.split()\n",
    "            key[line[0]]=line[1]\n",
    "    return key    \n",
    "#def encryptmarks(datafile,keyfile):\n",
    "dictkeyfile(keypath)"
   ]
  },
  {
   "cell_type": "code",
   "execution_count": null,
   "metadata": {},
   "outputs": [],
   "source": [
    "l=list((str,input().split()))\n",
    "d={}\n",
    "for i in l:\n",
    "    if i in l:\n",
    "        d[i]+=1\n",
    "    else:\n",
    "        d[i]=1\n",
    "d\n",
    "        \n"
   ]
  },
  {
   "cell_type": "code",
   "execution_count": null,
   "metadata": {},
   "outputs": [],
   "source": []
  }
 ],
 "metadata": {
  "kernelspec": {
   "display_name": "Python 3",
   "language": "python",
   "name": "python3"
  },
  "language_info": {
   "codemirror_mode": {
    "name": "ipython",
    "version": 3
   },
   "file_extension": ".py",
   "mimetype": "text/x-python",
   "name": "python",
   "nbconvert_exporter": "python",
   "pygments_lexer": "ipython3",
   "version": "3.7.3"
  }
 },
 "nbformat": 4,
 "nbformat_minor": 2
}
