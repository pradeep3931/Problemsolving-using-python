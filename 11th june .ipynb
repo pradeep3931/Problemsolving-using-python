{
 "cells": [
  {
   "cell_type": "markdown",
   "metadata": {},
   "source": [
    "# Makdown Basices\n",
    "* **bold** \n",
    "* *italic* <br>\n",
    "* ***bold & italic***\n",
    "* Normal Text \n",
    "   * sublist \n",
    "     * sublist \n",
    "     \n",
    "     \n",
    "1. List one \n",
    "### adding an image \n",
    "[jupyter logo](iron-man-8k-to-2048x1152.jpg)   *Adding a link*\n",
    "![jupyter log0](iron-man-8k-to-2048x1152.jpg)  *adding a image*\n",
    "<img src =\"iron-man-8k-to-2048x1152.jpg\" >   *** adding img using html tag *** \n",
    "    \n",
    "#### task list <br>\n",
    " -[] option 1<br>\n",
    "-[x]  i dont know<br>\n",
    "       \n",
    "       \n",
    " ### hiii heloo      \n",
    " \n",
    " \n",
    "  I get 10 times  tha  [Google] [1] than tha [google] [2] \n",
    "       \n",
    "       [Google] : (http://google.com/)\n",
    "       [1] : http://google.com/ \n",
    "\n"
   ]
  },
  {
   "cell_type": "markdown",
   "metadata": {},
   "source": [
    "   # Python basics\n",
    "       \n",
    "       Python version 3.7\n",
    "      \n",
    "- scripting \n",
    "- object orianted\n",
    "- functional"
   ]
  },
  {
   "cell_type": "code",
   "execution_count": 1,
   "metadata": {},
   "outputs": [
    {
     "name": "stdout",
     "output_type": "stream",
     "text": [
      "heloo Good afternoon ! this is python\n"
     ]
    }
   ],
   "source": [
    "#basic output \n",
    "print (\"heloo Good afternoon !\",end=\" \")\n",
    "print (\"this is python\")\n",
    "    "
   ]
  },
  {
   "cell_type": "markdown",
   "metadata": {},
   "source": [
    "## Assignments"
   ]
  },
  {
   "cell_type": "code",
   "execution_count": 2,
   "metadata": {},
   "outputs": [
    {
     "data": {
      "text/plain": [
       "2"
      ]
     },
     "execution_count": 2,
     "metadata": {},
     "output_type": "execute_result"
    }
   ],
   "source": [
    "n1=1233456   #single variable assignment \n",
    "v1=v2=v3=n1 #multi variable assignment\n",
    "v1\n",
    "#multi variable assignment  with different value \n",
    "a,b,c= 1,2,3\n",
    "\n",
    "b"
   ]
  },
  {
   "cell_type": "markdown",
   "metadata": {},
   "source": [
    "## data types\n",
    "- int \n",
    "- float\n",
    "- string \n",
    "### Type conversion "
   ]
  },
  {
   "cell_type": "code",
   "execution_count": 3,
   "metadata": {},
   "outputs": [
    {
     "data": {
      "text/plain": [
       "'12'"
      ]
     },
     "execution_count": 3,
     "metadata": {},
     "output_type": "execute_result"
    }
   ],
   "source": [
    "s1=\"python\"\n",
    "type(s1)\n",
    "p1=1234\n",
    "type(p1)\n",
    "f1=12.34\n",
    "type(f1)\n",
    "int(f1)\n",
    "str(int(f1))"
   ]
  },
  {
   "cell_type": "markdown",
   "metadata": {},
   "source": [
    "## Arthmatic operations\n",
    "- +\n",
    "- -\n",
    "- *\n",
    "- /\n",
    "- %\n",
    "- **"
   ]
  },
  {
   "cell_type": "code",
   "execution_count": 4,
   "metadata": {},
   "outputs": [
    {
     "data": {
      "text/plain": [
       "10000000000000000000000000000000000000000000000000000000000000000000000000000000000"
      ]
     },
     "execution_count": 4,
     "metadata": {},
     "output_type": "execute_result"
    }
   ],
   "source": [
    "a+b #addition \n",
    "n1%11 #modules\n",
    "n1/11 #division \n",
    "n3=n1**1234\n",
    "len(str(n3)) #length\n",
    "type(n3)\n",
    "n3\n",
    "type(str(n3)) \n",
    "atoms =10 **82\n",
    "atoms"
   ]
  },
  {
   "cell_type": "markdown",
   "metadata": {},
   "source": [
    "## Decision making (conditionals )"
   ]
  },
  {
   "cell_type": "code",
   "execution_count": 6,
   "metadata": {},
   "outputs": [
    {
     "name": "stdout",
     "output_type": "stream",
     "text": [
      "enter the first number12234556\n",
      "enter a second number5656\n",
      "enter a third number12235466\n",
      "12235466 is the greatest\n"
     ]
    }
   ],
   "source": [
    "a= int (input(\"enter the first number\"))\n",
    "b=int (input(\"enter a second number\"))\n",
    "c=int(input (\"enter a third number\"))\n",
    "if a>b and a>c:\n",
    "    print (a,\"is greatest\")\n",
    "elif b>c:\n",
    "     print(b,\"is greatest\")\n",
    "else:\n",
    "    print(c,\"is the greatest\")\n",
    "    "
   ]
  },
  {
   "cell_type": "code",
   "execution_count": 11,
   "metadata": {},
   "outputs": [
    {
     "name": "stdout",
     "output_type": "stream",
     "text": [
      "enter a year2017\n",
      "not a leap year\n"
     ]
    }
   ],
   "source": [
    "a=int(input(\"enter a year\"))\n",
    "if a%4==0 and a%100!=0 or a%400==0 :\n",
    "    print(\"it is a leap year\")\n",
    "else:\n",
    "    print (\"not a leap year\")"
   ]
  },
  {
   "cell_type": "code",
   "execution_count": 12,
   "metadata": {},
   "outputs": [
    {
     "name": "stdout",
     "output_type": "stream",
     "text": [
      "enter a number12\n",
      "enter a number1\n",
      "enter a number100\n",
      "yes\n"
     ]
    }
   ],
   "source": [
    "num=int(input(\"enter a number\"))\n",
    "lb=int(input(\"enter a number\"))\n",
    "up=int(input(\"enter a number\"))\n",
    "\n",
    "if num>lb and num<up:\n",
    "    print(\"yes\")\n",
    "else:\n",
    "    print(\"no\")\n",
    "    "
   ]
  },
  {
   "cell_type": "code",
   "execution_count": 15,
   "metadata": {},
   "outputs": [
    {
     "name": "stdout",
     "output_type": "stream",
     "text": [
      "enter a number1233\n"
     ]
    },
    {
     "data": {
      "text/plain": [
       "4"
      ]
     },
     "execution_count": 15,
     "metadata": {},
     "output_type": "execute_result"
    }
   ],
   "source": [
    "#number of dizits in a number\n",
    "n=int(input(\"enter a number\"))\n",
    "len(str(n))\n",
    "    \n",
    "\n"
   ]
  },
  {
   "cell_type": "code",
   "execution_count": 9,
   "metadata": {},
   "outputs": [
    {
     "name": "stdout",
     "output_type": "stream",
     "text": [
      "enter a stringpradeepgali\n"
     ]
    },
    {
     "data": {
      "text/plain": [
       "'i'"
      ]
     },
     "execution_count": 9,
     "metadata": {},
     "output_type": "execute_result"
    }
   ],
   "source": [
    "s=input(\"enter a string\")\n",
    "s[-1::]\n"
   ]
  },
  {
   "cell_type": "code",
   "execution_count": null,
   "metadata": {},
   "outputs": [],
   "source": []
  }
 ],
 "metadata": {
  "kernelspec": {
   "display_name": "Python 3",
   "language": "python",
   "name": "python3"
  },
  "language_info": {
   "codemirror_mode": {
    "name": "ipython",
    "version": 3
   },
   "file_extension": ".py",
   "mimetype": "text/x-python",
   "name": "python",
   "nbconvert_exporter": "python",
   "pygments_lexer": "ipython3",
   "version": "3.7.3"
  }
 },
 "nbformat": 4,
 "nbformat_minor": 2
}
