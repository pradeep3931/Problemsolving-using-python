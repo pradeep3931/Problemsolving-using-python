{
 "cells": [
  {
   "cell_type": "markdown",
   "metadata": {},
   "source": [
    "## Day  Objectives:\n",
    "    Regular Expressions:<br>\n",
    "     \n",
    "    - Constructing Regular Expressions for various cases<br>\n",
    "    - Regular Expressions module and related  in Python<br>\n",
    "    - improving the Contacts application with name and number validation<br> \n",
    "    File Handling:<br>\n",
    "    \n",
    "    - Text File<br>\n",
    "    - upgrading the contacts application ti store contact information in a text file<br> "
   ]
  },
  {
   "cell_type": "markdown",
   "metadata": {},
   "source": [
    "Regular expression:\n",
    "    - Pattren matching\n",
    "    - Symbolic notation of a pattren \n",
    "        - Pattern :Format which repeats\n",
    "        - Pattern(RE):Represents the set of all strings/data  matches  the particular pattern\n",
    "    -[0_9]->any digit \n",
    "    -[a_z]->any lowercase alphabet\n",
    "    -[2 4 6 8]->All even numbers\n",
    "    -^[0-9]{1}$->only one digit numbers\n",
    "    - ^[0-9]{3}$->only three digit numbers\n",
    "    - ^[0-9]*0 \\$->multiples of 10\n",
    "    -^[1-9]*[05]$->all multiples of 5  || ^[1-9]*[05]*$->maybe worked for || ^ [1-9][0-9]*[05]|[5]$ || ^[1-9]*(0|5)$\n",
    "    -^[1-9][0-9]{9}$->all 10 digit numbers (or)^[1-9][0-9]{9}$ (or) ^[0][6-9][0-9]{9}| ^(+91)[6-9][0-9]{9}$ |^[+][9][1][6-9][0-9]{9}$\n",
    "     -^[9 8 7 6][0-9]{9}$->reguler expression of validating phone  number(9876 followed by 9)\n",
    "     - ^[w][0][r][d] or (word) =>searching for a \"word\"\n",
    "     -^[a-z0-9][0-9a-z_.][0-9a-z]{4,13}[@][a-z]{3,18}[.][a-z]{2,4}$^==>Email verification "
   ]
  },
  {
   "cell_type": "markdown",
   "metadata": {},
   "source": [
    "## Regular expressions modules \n",
    "- ^[a].........[z]$ => it takes any charecters of lingth 5 starts with 'a' and ends with 'z'\n",
    "- ^[a].*[z]==>any string of any length starting with \"a\"and ending with \"z\"\n",
    "\n"
   ]
  },
  {
   "cell_type": "code",
   "execution_count": 60,
   "metadata": {},
   "outputs": [
    {
     "data": {
      "text/plain": [
       "True"
      ]
     },
     "execution_count": 60,
     "metadata": {},
     "output_type": "execute_result"
    }
   ],
   "source": [
    "#Function to vallidate a phone number\n",
    "import re\n",
    "def phonenumbervalidater(number):\n",
    "   # re.compile(\"[+][9][1][6-9][0-9]{9}$\")\n",
    "    pattern =\"^[1-9][0-9]{9}$|^[0][6-9][0-9]{9}$|^[+][9][1][6-9][0-9]{9}$\"\n",
    "    if re.match(pattern,str(number)) :\n",
    "        return True \n",
    "    else:\n",
    "        return False\n",
    "phonenumbervalidater(8297826965)\n"
   ]
  },
  {
   "cell_type": "code",
   "execution_count": 53,
   "metadata": {},
   "outputs": [],
   "source": [
    "def emailvalidater(email ):\n",
    "   # re.compile(\"[+][9][1][6-9][0-9]{9}$\")\n",
    "    pattern =\"^[a-z0-9][0-9a-z_.][0-9a-z]{4,13}[@][a-z]{3,18}[.][a-z]{2,4}$\"\n",
    "    if re.match(pattern,str(email)) :\n",
    "        return True \n",
    "    else:\n",
    "        return False"
   ]
  },
  {
   "cell_type": "code",
   "execution_count": 73,
   "metadata": {},
   "outputs": [],
   "source": [
    "contacts2={}"
   ]
  },
  {
   "cell_type": "code",
   "execution_count": 79,
   "metadata": {},
   "outputs": [
    {
     "name": "stdout",
     "output_type": "stream",
     "text": [
      "name exists\n"
     ]
    },
    {
     "data": {
      "text/plain": [
       "{'Sar': [8867783993, 'gali12393@gmail.com'],\n",
       " 'S': [8867783987, 'gali123493@gmail.com'],\n",
       " 'pradeep': [8297826965, 'tonystarksgpk@gmail.com']}"
      ]
     },
     "execution_count": 79,
     "metadata": {},
     "output_type": "execute_result"
    }
   ],
   "source": [
    "def addcontact2(name,phone,email):\n",
    "    if name  in contacts2:\n",
    "        print(\"name already exists\")\n",
    "        return\n",
    "    else:\n",
    "        if not phonenumbervalidater(phone) : \n",
    "            print(\"Invalid phone\")\n",
    "            return\n",
    "        if not emailvalidater(email ):\n",
    "            print(\"invalid email\")\n",
    "            return\n",
    "        newcontact=[]\n",
    "        newcontact.append(phone)\n",
    "        newcontact.append(email)\n",
    "        contacts2[name]=newcontact \n",
    "addcontact2(\"pradeep\",8297826965,\"tonystarksgpk@gmail.com\")\n",
    "contacts2"
   ]
  },
  {
   "cell_type": "code",
   "execution_count": 84,
   "metadata": {},
   "outputs": [
    {
     "name": "stdout",
     "output_type": "stream",
     "text": [
      "name : pradeep\n",
      "phone : 8297826965\n",
      "email : tonystarksgpk@gmail.com\n"
     ]
    }
   ],
   "source": [
    "def Searchcontact(k):\n",
    "    if k in contacts2:\n",
    "        print(\"name\",\":\",k)\n",
    "        print(\"phone\",\":\",contacts2[k][0])\n",
    "        print(\"email\",\":\",contacts2[k][1])\n",
    "    else:\n",
    "        print(\"%s does not exists\"%k)\n",
    "Searchcontact(\"pradeep\")"
   ]
  },
  {
   "cell_type": "code",
   "execution_count": 87,
   "metadata": {},
   "outputs": [
    {
     "name": "stdout",
     "output_type": "stream",
     "text": [
      "2 added successfully\n",
      "{'Sar': [8867783993, 'gali12393@gmail.com'], 'S': [8867783987, 'gali123493@gmail.com'], 'pradeep': [8297826965, 'tonystarksgpk@gmail.com'], 'name2': [9876543210, 'hiidude@gamil.com'], 'name3': [98374112319, 'hiii1234@gamil.com']}\n"
     ]
    }
   ],
   "source": [
    "def importcontacts(newcontact):\n",
    "            contacts2.update(newcontact)         #newcontacts are given in dictonary \n",
    "            print (len(newcontact.keys()),\"added successfully\")      #merge tthe contacts \n",
    "            print(contacts2)\n",
    "new={\"name2\":[9876543210,\"hiidude@gamil.com\"],\"name3\":[98374112319,\"hiii1234@gamil.com\"]}\n",
    "importcontacts(new)"
   ]
  },
  {
   "cell_type": "code",
   "execution_count": 95,
   "metadata": {},
   "outputs": [
    {
     "name": "stdout",
     "output_type": "stream",
     "text": [
      "Sar \n",
      " phone: 8867783993 \n",
      " email: gali12393@gmail.com\n",
      "S \n",
      " phone: 8867783987 \n",
      " email: gali123493@gmail.com\n",
      "pradeep \n",
      " phone: 8297826965 \n",
      " email: tonystarksgpk@gmail.com\n",
      "name2 \n",
      " phone: 9876543210 \n",
      " email: hiidude@gamil.com\n",
      "name3 \n",
      " phone: 98374112319 \n",
      " email: hiii1234@gamil.com\n"
     ]
    }
   ],
   "source": [
    "#function to list all \n",
    "def list():\n",
    "    for contact,info in contacts2.items():\n",
    "        print(contact,\"\\n\",\"phone:\",info[0],\"\\n\",\"email:\",info[1])\n",
    "list()\n"
   ]
  },
  {
   "cell_type": "code",
   "execution_count": 97,
   "metadata": {},
   "outputs": [],
   "source": [
    "def editcontact(name,phone,email):\n",
    "    for name in contacts2:\n",
    "        newcontact=[]\n",
    "        newcontact.append(phone)\n",
    "        newcontact.append(email)\n",
    "        contacts2[name]=newcontact\n",
    "    return"
   ]
  },
  {
   "cell_type": "markdown",
   "metadata": {},
   "source": [
    "### File handling in Python\n",
    "- File-Document containing some info resaiding on a perminernt storage\n",
    "- file types :text.pdf,csv,img ...etc \n",
    "- File Io-channeling data  to files\n",
    "- default i/0 channels :- keyboard/screen\n",
    "- Read/Write A input =input open(filename,mode)\n",
    "- Create a file-create(filename,mode)\n",
    "\n",
    "\n"
   ]
  },
  {
   "cell_type": "code",
   "execution_count": 106,
   "metadata": {},
   "outputs": [
    {
     "data": {
      "text/plain": [
       "[' hii i am Pradeepkumar ']"
      ]
     },
     "execution_count": 106,
     "metadata": {},
     "output_type": "execute_result"
    }
   ],
   "source": [
    "#function to read a File\n",
    "def readFile(filename):\n",
    "    f=open(filename,'r')\n",
    "    filedata=f.read()\n",
    "    f.close()\n",
    "    return filedata\n",
    "filename ='datafiles/data.txt'\n",
    "readFile(filename)\n",
    "readFile(filename).split('\\n')"
   ]
  },
  {
   "cell_type": "code",
   "execution_count": 112,
   "metadata": {},
   "outputs": [
    {
     "name": "stdout",
     "output_type": "stream",
     "text": [
      " hii i am Pradeepkumar \n",
      "sdlvnasgn\n",
      "aflasfas\n",
      "asfasfas\n",
      "\n"
     ]
    }
   ],
   "source": [
    "def printFiledata(filename):\n",
    "    with open(filename,'r') as f:\n",
    "        for l in f:\n",
    "            print(l)\n",
    "        return\n",
    "#printFiledata(filename)\n",
    "print(readFile(filename))"
   ]
  },
  {
   "cell_type": "code",
   "execution_count": 129,
   "metadata": {},
   "outputs": [
    {
     "name": "stdout",
     "output_type": "stream",
     "text": [
      "\n",
      "new data1\n",
      "newdata2\n"
     ]
    }
   ],
   "source": [
    "#function to write data into a file\n",
    "def writeintofile(filename,filedata):\n",
    "    with open(filename,'w') as f:\n",
    "        f.write(filedata)\n",
    "    return\n",
    "writeintofile(filename,\"\\nnew data1\\nnewdata2\") \n",
    "print(readFile(filename))\n",
    "        \n",
    "    "
   ]
  },
  {
   "cell_type": "code",
   "execution_count": 128,
   "metadata": {},
   "outputs": [
    {
     "name": "stdout",
     "output_type": "stream",
     "text": [
      "\n",
      "new data1\n",
      "newdata2\n",
      "new data3\n",
      "newdata4\n",
      "new data4\n",
      "newdata5 'eof'\n"
     ]
    }
   ],
   "source": [
    "def writeintofile(filename,filedata):\n",
    "    with open(filename,'a') as f:\n",
    "        f.write(filedata)\n",
    "    return\n",
    "writeintofile(filename,\"\\nnew data4\\nnewdata5 \") \n",
    "print(readFile(filename))"
   ]
  },
  {
   "cell_type": "code",
   "execution_count": 162,
   "metadata": {},
   "outputs": [
    {
     "name": "stdout",
     "output_type": "stream",
     "text": [
      "Sar8867783993S8867783987pradeep8297826965name29876543210name398374112319\n",
      "Sar,8867783993,gali12393@gmail.com\n",
      "\n",
      "S,8867783987,gali123493@gmail.com\n",
      "\n",
      "pradeep,8297826965,tonystarksgpk@gmail.com\n",
      "\n",
      "name2,9876543210,hiidude@gamil.com\n",
      "\n",
      "name3,98374112319,hiii1234@gamil.com\n",
      "\n"
     ]
    }
   ],
   "source": [
    "#adding contacts to a file\n",
    "def addingtofile(filename1):\n",
    "    with open(filename1,'a') as f:\n",
    "        for i,j in contacts2.items():\n",
    "            f.write(\"\\n\"+str(i))\n",
    "            f.write(\",\"+str(j[0]))\n",
    "            f.write(\",\"+str(j[1])+\"\\n\")\n",
    "            \n",
    "filename1=\"datafiles/contacts.txt\"\n",
    "addingtofile(filename1)\n",
    "\n",
    "\n",
    "        "
   ]
  },
  {
   "cell_type": "code",
   "execution_count": 163,
   "metadata": {},
   "outputs": [
    {
     "name": "stdout",
     "output_type": "stream",
     "text": [
      "Name,  Phone  , Email\n",
      "Sardar,8867783993,gali12393@gmail.com\n",
      "\n",
      "Sravani,8867783987,gali123493@gmail.com\n",
      "\n",
      "pradeep,8297826965,tonystarksgpk@gmail.com\n",
      "\n",
      "name2,9876543210,hiidude@gamil.com\n",
      "\n",
      "name3,98374112319,hiii1234@gamil.com\n",
      "\n"
     ]
    }
   ],
   "source": [
    "print(readFile(filename))"
   ]
  },
  {
   "cell_type": "code",
   "execution_count": null,
   "metadata": {},
   "outputs": [],
   "source": []
  }
 ],
 "metadata": {
  "kernelspec": {
   "display_name": "Python 3",
   "language": "python",
   "name": "python3"
  },
  "language_info": {
   "codemirror_mode": {
    "name": "ipython",
    "version": 3
   },
   "file_extension": ".py",
   "mimetype": "text/x-python",
   "name": "python",
   "nbconvert_exporter": "python",
   "pygments_lexer": "ipython3",
   "version": "3.7.3"
  }
 },
 "nbformat": 4,
 "nbformat_minor": 2
}
