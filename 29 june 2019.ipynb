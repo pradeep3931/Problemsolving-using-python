{
 "cells": [
  {
   "cell_type": "code",
   "execution_count": 11,
   "metadata": {},
   "outputs": [],
   "source": [
    "#Function to genarate key for encryption with replace\n",
    "keypath='datafiles/key.txt'\n",
    "def genarate(keypath):\n",
    "    with open(keypath,'w') as f:\n",
    "        for i in range(10):\n",
    "            if i<6:\n",
    "                f.write(str(i)+ ' '+str(i+4)+'\\n')\n",
    "            else:\n",
    "                f.write(str(i)+ ' '+str(i-6)+'\\n')\n",
    "        return\n",
    "genarate(keypath)"
   ]
  },
  {
   "cell_type": "code",
   "execution_count": 34,
   "metadata": {},
   "outputs": [
    {
     "data": {
      "text/plain": [
       "{'0': '4',\n",
       " '1': '5',\n",
       " '2': '6',\n",
       " '3': '7',\n",
       " '4': '8',\n",
       " '5': '9',\n",
       " '6': '0',\n",
       " '7': '1',\n",
       " '8': '2',\n",
       " '9': '3'}"
      ]
     },
     "execution_count": 34,
     "metadata": {},
     "output_type": "execute_result"
    }
   ],
   "source": [
    "def dictkeyfile(keyfile):\n",
    "    key={}\n",
    "    with open(keyfile,\"r\") as f:\n",
    "        for line in f:\n",
    "            line=line.split()\n",
    "            key[line[0]]=line[1]\n",
    "    return key    \n",
    "#def encryptmarks(datafile,keyfile):\n",
    "dictkeyfile(keypath)"
   ]
  },
  {
   "cell_type": "code",
   "execution_count": 33,
   "metadata": {},
   "outputs": [],
   "source": [
    "def encryptmarksdata(datafile,keyfile):\n",
    "    key=dictkeyfile(keyfile)\n",
    "    with open(datafile,'r') as f:\n",
    "        filedata=f.read().split('\\n')\n",
    "        #print(filedata)\n",
    "    with open(\"datafiles/encrypted.txt\",'w') as f:\n",
    "        for mark in filedata:\n",
    "            line = ''\n",
    "            for n in mark:\n",
    "                #print(key)\n",
    "                line += key[n]\n",
    "            f.write(line + '\\n')\n",
    "datafile='datafiles/marks.txt'\n",
    "keyfile='datafiles/key.txt'      \n",
    "encryptmarksdata(datafile,keyfile)       "
   ]
  },
  {
   "cell_type": "code",
   "execution_count": 57,
   "metadata": {},
   "outputs": [
    {
     "name": "stdout",
     "output_type": "stream",
     "text": [
      "{'4': '0', '5': '1', '6': '2', '7': '3', '8': '4', '9': '5', '0': '6', '1': '7', '2': '8', '3': '9'}\n"
     ]
    }
   ],
   "source": [
    "def decryptmarksdata(datafile,keyfile):\n",
    "    key=dictkeyfile(keyfile)\n",
    "    newkey={}\n",
    "    for key,value in key.items():\n",
    "        newkey[value]=key\n",
    "    print(newkey)\n",
    "        \n",
    "    with open(datafile,'r') as f:\n",
    "        filedata=f.read().split('\\n')\n",
    "        #print(filedata)\n",
    "    with open(\"datafiles/decrypted.txt\",'w') as f:\n",
    "        for mark in filedata:\n",
    "            line=''\n",
    "            for n in mark:\n",
    "                    line+=newkey[n]\n",
    "            f.write(line+'\\n')\n",
    "    return \n",
    "datafile='datafiles/encrypted.txt'\n",
    "keyfile='datafiles/key.txt'      \n",
    "decryptmarksdata(datafile,keyfile)       "
   ]
  },
  {
   "cell_type": "code",
   "execution_count": null,
   "metadata": {},
   "outputs": [],
   "source": []
  }
 ],
 "metadata": {
  "kernelspec": {
   "display_name": "Python 3",
   "language": "python",
   "name": "python3"
  },
  "language_info": {
   "codemirror_mode": {
    "name": "ipython",
    "version": 3
   },
   "file_extension": ".py",
   "mimetype": "text/x-python",
   "name": "python",
   "nbconvert_exporter": "python",
   "pygments_lexer": "ipython3",
   "version": "3.7.3"
  }
 },
 "nbformat": 4,
 "nbformat_minor": 2
}
