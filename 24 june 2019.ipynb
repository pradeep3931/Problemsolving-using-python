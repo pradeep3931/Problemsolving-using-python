{
 "cells": [
  {
   "cell_type": "code",
   "execution_count": 69,
   "metadata": {},
   "outputs": [
    {
     "name": "stdout",
     "output_type": "stream",
     "text": [
      "word count:- 4\n",
      "johnwick\n",
      "tony\n",
      "chris\n",
      "evans\n",
      "ledger\n",
      "johnwick\n",
      "johnwick\n",
      "johnwick\n"
     ]
    }
   ],
   "source": [
    "#find and replace APPLICATION\n",
    "import re\n",
    "def findandreplace(fname,word,newword):\n",
    "    with open(fname,'r') as f:\n",
    "        f=f.read()\n",
    "        l=f.split()\n",
    "        wc=0\n",
    "        for i in range(len(l)):\n",
    "                if l[i]==word:\n",
    "                    wc+=1\n",
    "                    l[i]=newword\n",
    "        print(\"word count:-\",wc)\n",
    "        for i in range(len(l)):\n",
    "            print(l[i])\n",
    "fname=\"datafiles/data1.txt\"\n",
    "findandreplace(fname,\"pradeep\",\"johnwick\")"
   ]
  },
  {
   "cell_type": "code",
   "execution_count": null,
   "metadata": {},
   "outputs": [],
   "source": [
    "s=input()\n",
    "sum=0\n",
    "for i in s:\n",
    "    sum+=int(i)\n",
    "print(sum)"
   ]
  },
  {
   "cell_type": "code",
   "execution_count": 7,
   "metadata": {},
   "outputs": [
    {
     "data": {
      "text/plain": [
       "[3, 5, 7, 9, 66]"
      ]
     },
     "execution_count": 7,
     "metadata": {},
     "output_type": "execute_result"
    }
   ],
   "source": [
    "li=[1,2,3,4,5]\n",
    "l2=[2,3,4,5,61]\n",
    "sum=list(map(lambda x,y:x+y,li,l2))\n",
    "sum"
   ]
  },
  {
   "cell_type": "code",
   "execution_count": 34,
   "metadata": {},
   "outputs": [
    {
     "name": "stdout",
     "output_type": "stream",
     "text": [
      "46 90 83 32 73 6 25 79 56 100 4 2 83 26 36 3 5 100 85 96 100 91 98 41 62 67 81 75 99 61 65 30 31 78 99 38 66 56 40 97 43 57 4 5 9 22 22 23 54 39 0 0 19 5 17 41 65 37 71 43 69 11 50 80 20 100 26 0 85 95 30 32 79 84 1 12 84 97 96 42 24 86 51 3 89 56 39 50 86 36 52 56 6 35 11 71 64 23 80 \n"
     ]
    }
   ],
   "source": [
    "#function to marks in a file:\n",
    "import random\n",
    "def noofst(n):\n",
    "    with open(\"datafiles/marks.txt\",'w') as f:\n",
    "        for i in range (1,n):\n",
    "             f.write(str(random.randint(0,100))+ \" \")\n",
    "\n",
    "noofst(100)\n",
    "f=\"datafiles/marks.txt\"\n",
    "with open(f,'r') as k:\n",
    "    t=k.read()\n",
    "    print(t)\n",
    "           \n"
   ]
  },
  {
   "cell_type": "code",
   "execution_count": 41,
   "metadata": {},
   "outputs": [
    {
     "name": "stdout",
     "output_type": "stream",
     "text": [
      "40 41 42 43 44 45 46 47 48 49 50 51 52 53 54 55 56 57 58 59 60 61 62 63 64 65 66 67 68 69 70 71 72 73 74 75 76 77 78 79 80 81 82 83 84 85 86 87 88 89 90 91 92 93 94 95 96 97 98 \n",
      "% of passed  :- 69.0\n"
     ]
    }
   ],
   "source": [
    "def passpercentage(fname):\n",
    "    with open(\"datafiles/marks.txt\",'r') as f:\n",
    "        f=f.read()\n",
    "        l=list(map(int,f.split()))\n",
    "        sum=0\n",
    "        c=0\n",
    "        for i in range(len(l)) :\n",
    "            if i>=40:\n",
    "                sum=sum+i\n",
    "                c=c+1\n",
    "                print(i,end=\" \")\n",
    "        print (\"\\n% of passed  :-\",(sum/c))\n",
    "passpercentage(f)"
   ]
  },
  {
   "cell_type": "code",
   "execution_count": 57,
   "metadata": {},
   "outputs": [
    {
     "name": "stdout",
     "output_type": "stream",
     "text": [
      "32 6 25 4 2 26 36 3 5 30 31 38 4 5 9 22 22 23 39 0 0 19 5 17 37 11 20 26 0 30 32 1 12 24 3 39 36 6 35 11 23 \n",
      " percentage of failed:- 18.26829268292683\n"
     ]
    }
   ],
   "source": [
    "def failpercentage(fanme):\n",
    "    with open(\"datafiles/marks.txt\",'r') as f:\n",
    "        f=f.read()\n",
    "        l=list(map (int,f.split()))\n",
    "        sum=0\n",
    "        c=0\n",
    "        for i in l:\n",
    "            if i<40:\n",
    "                sum+=i\n",
    "                c+=1\n",
    "                print(i,end=\" \")\n",
    "    print(\"\\n percentage of failed:-\",(sum/c))\n",
    "failpercentage(f)"
   ]
  },
  {
   "cell_type": "code",
   "execution_count": 56,
   "metadata": {},
   "outputs": [
    {
     "name": "stdout",
     "output_type": "stream",
     "text": [
      "46 90 83 32 73 6 25 79 56 100 4 2 83 26 36 3 5 100 85 96 100 91 98 41 62 67 81 75 99 61 65 30 31 78 99 38 66 56 40 97 43 57 4 5 9 22 22 23 54 39 0 0 19 5 17 41 65 37 71 43 69 11 50 80 20 100 26 0 85 95 30 32 79 84 1 12 84 97 96 42 24 86 51 3 89 56 39 50 86 36 52 56 6 35 11 71 64 23 80 \n",
      "Average:- 50.42424242424242\n"
     ]
    }
   ],
   "source": [
    "def average(fname):\n",
    "     with open(\"datafiles/marks.txt\",'r') as f:\n",
    "        f=f.read()\n",
    "        l=list(map (int,f.split()))\n",
    "        sum=0\n",
    "        c=0\n",
    "        for i in l:\n",
    "                sum+=i\n",
    "                c+=1\n",
    "                print(i,end=\" \")\n",
    "        print(\"\\nAverage:-\",(sum/c))\n",
    "average(f)"
   ]
  },
  {
   "cell_type": "code",
   "execution_count": 1,
   "metadata": {},
   "outputs": [
    {
     "name": "stdout",
     "output_type": "stream",
     "text": [
      "1\n",
      "abc\n",
      "abc\n",
      "0\n"
     ]
    }
   ],
   "source": [
    "#anagram\n",
    "for _ in range(int(input())):\n",
    "    s=input()\n",
    "    k=input();\n",
    "    res=0;\n",
    "    for i in range(ord('a'),ord('z')+1):\n",
    "        res+=abs(s.count(chr(i))-k.count(chr(i)));\n",
    "    print(res)"
   ]
  },
  {
   "cell_type": "code",
   "execution_count": null,
   "metadata": {},
   "outputs": [],
   "source": []
  }
 ],
 "metadata": {
  "kernelspec": {
   "display_name": "Python 3",
   "language": "python",
   "name": "python3"
  },
  "language_info": {
   "codemirror_mode": {
    "name": "ipython",
    "version": 3
   },
   "file_extension": ".py",
   "mimetype": "text/x-python",
   "name": "python",
   "nbconvert_exporter": "python",
   "pygments_lexer": "ipython3",
   "version": "3.7.3"
  }
 },
 "nbformat": 4,
 "nbformat_minor": 2
}
