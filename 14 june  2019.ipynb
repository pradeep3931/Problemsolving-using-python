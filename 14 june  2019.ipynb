{
 "cells": [
  {
   "cell_type": "markdown",
   "metadata": {},
   "source": [
    "## python datastructure\n",
    "\n",
    "### Lists "
   ]
  },
  {
   "cell_type": "code",
   "execution_count": 219,
   "metadata": {},
   "outputs": [
    {
     "data": {
      "text/plain": [
       "0"
      ]
     },
     "execution_count": 219,
     "metadata": {},
     "output_type": "execute_result"
    }
   ],
   "source": [
    "li=[123,978,654]\n",
    "li\n",
    "li[1]\n",
    "li[-2:] #Accessing second element to last element\n",
    "li[::-1] #Accesing in the reverse order \n",
    "li[::2]#Accesing even index eliments\n",
    "li[1::2] #Accessing odd elements in the list\n",
    "#### lists can be accessed and manuplated in two types \n",
    "                       #1.Direct refrencing\n",
    "                       #2.Indirected referencing\n",
    "# 2.indirect referencing\n",
    "    #append \n",
    "li.append(345)\n",
    "li\n",
    "    #insert\n",
    "li.insert(1,234)\n",
    "   #sort\n",
    "li.sort()\n",
    "  #unsort\n",
    "li.sort()\n",
    " #pop\n",
    "li.pop()\n",
    "li\n",
    "  #remove element at an index\n",
    " #li.pop(index no)\n",
    "#merge lists Using extend\n",
    "li2=[111,222,333]\n",
    "li.extend(li2) \n",
    "li\n",
    "#sum of all elements\n",
    "sum(li)\n",
    "#maximum of list\n",
    "max(li)\n",
    "#length \n",
    "len(li)\n",
    "min(li)\n",
    "#AVERAGE OF ELEMENTS in the list\n",
    "sum(li)/len(li)\n",
    "# avrage of all alternate elments at even position\n",
    "sum(li[1::2])/len(li[1::2])\n",
    "sum(li[::2])/len(li[::2])\n",
    "li=[1,2,3,4,4,4]\n",
    "li.pop(4)\n",
    "max(li)\n",
    "li.pop(max(li))\n",
    "li[-1:]\n",
    "li\n",
    "l=li\n",
    "l\n",
    "li=set(li)\n",
    "l=list(l)\n",
    "l.pop()\n",
    "max(l)\n",
    "\n",
    "l2=[1,2,3,4,5,6,7,9,10,10,10]\n",
    "l2.index(1)\n",
    "l2.count(10)\n"
   ]
  },
  {
   "cell_type": "code",
   "execution_count": 95,
   "metadata": {},
   "outputs": [
    {
     "name": "stdout",
     "output_type": "stream",
     "text": [
      "[1, 2, 3, 4]\n"
     ]
    },
    {
     "data": {
      "text/plain": [
       "[3]"
      ]
     },
     "execution_count": 95,
     "metadata": {},
     "output_type": "execute_result"
    }
   ],
   "source": [
    "## function to identify the second largest element\n",
    "def second_largest(li):\n",
    "    print(li)\n",
    "    li.sort()\n",
    "    l=max(li)\n",
    "    li.pop()\n",
    "    if max(li)==l:\n",
    "        li.pop()\n",
    "    else:\n",
    "        return li[-1:]\n",
    "\n",
    "second_largest(li)\n",
    "\n"
   ]
  },
  {
   "cell_type": "code",
   "execution_count": 200,
   "metadata": {},
   "outputs": [
    {
     "data": {
      "text/plain": [
       "8"
      ]
     },
     "execution_count": 200,
     "metadata": {},
     "output_type": "execute_result"
    }
   ],
   "source": [
    "#linearsearch search\n",
    "#li.index()m returns the index value\n",
    "#try:\n",
    " #   li.index(100)\n",
    "#except:\n",
    " #    print(-1)\n",
    "def linearSearch(lis,key):\n",
    "    try:\n",
    "        lis.index(key)\n",
    "    except:\n",
    "        print(\"Error\")\n",
    "    return\n",
    "linearSearch(l2,10)\n",
    "\n",
    "def linearSearch2(lis,key):\n",
    "    if key in lis:\n",
    "         return lis.index(key)\n",
    "    return -1\n",
    "linearSearch2(l2,10)\n",
    "\n",
    "\n",
    "\n"
   ]
  },
  {
   "cell_type": "code",
   "execution_count": 2,
   "metadata": {},
   "outputs": [],
   "source": [
    "#function to count accurences of achar in a string \n",
    "def findaccu(str,c):\n",
    "    return str.count(c)\n",
    "findaccu(\"hey programmer\",\"hey\")\n",
    "#second \n",
    "def countacc(s,c):\n",
    "    count=0\n",
    "    for i in s:\n",
    "        if i==c:\n",
    "            count+=1\n",
    "    return count\n",
    "countacc(\"hey jonnydepp\",'d')\n",
    "#alternative\n",
    "def countword(str,c):\n",
    "    try:\n",
    "        str.find(c)\n",
    "    except:\n",
    "        print(-1)\n",
    "countword(\"pradeepgali\",\"pra\")\n"
   ]
  },
  {
   "cell_type": "code",
   "execution_count": 14,
   "metadata": {},
   "outputs": [
    {
     "name": "stdout",
     "output_type": "stream",
     "text": [
      "0\n"
     ]
    }
   ],
   "source": [
    "#Program to find the closest value from 0 in list \n",
    "li=[-1,-2,-3,3,0]\n",
    "pl=[]\n",
    "for i in li:\n",
    "    pl.append(abs(i))\n",
    "pl.sort()\n",
    "if pl[0] in li:\n",
    "    print (pl[0])\n",
    "else:\n",
    "    print(-pl[0])\n",
    "li.sort()\n"
   ]
  },
  {
   "cell_type": "markdown",
   "metadata": {},
   "source": [
    "## Problem -3\n",
    "your  are given three numbers a,b,c write a program to find the llargest number which is lessthan  or eqal to c anad leaves remainder b when devisible by a\n",
    "    \n",
    "    "
   ]
  },
  {
   "cell_type": "code",
   "execution_count": 39,
   "metadata": {},
   "outputs": [
    {
     "name": "stdout",
     "output_type": "stream",
     "text": [
      "enter a num2\n",
      "enter a num4\n",
      "enter a num10\n",
      "-1\n"
     ]
    },
    {
     "ename": "ValueError",
     "evalue": "max() arg is an empty sequence",
     "output_type": "error",
     "traceback": [
      "\u001b[1;31m---------------------------------------------------------------------------\u001b[0m",
      "\u001b[1;31mValueError\u001b[0m                                Traceback (most recent call last)",
      "\u001b[1;32m<ipython-input-39-043fc14dfd92>\u001b[0m in \u001b[0;36m<module>\u001b[1;34m\u001b[0m\n\u001b[0;32m      9\u001b[0m         \u001b[1;32mif\u001b[0m \u001b[0mi\u001b[0m\u001b[1;33m<=\u001b[0m\u001b[0mc\u001b[0m \u001b[1;32mand\u001b[0m \u001b[0mi\u001b[0m\u001b[1;33m%\u001b[0m\u001b[0ma\u001b[0m\u001b[1;33m==\u001b[0m\u001b[0mb\u001b[0m\u001b[1;33m:\u001b[0m\u001b[1;33m\u001b[0m\u001b[1;33m\u001b[0m\u001b[0m\n\u001b[0;32m     10\u001b[0m             \u001b[0mp\u001b[0m\u001b[1;33m.\u001b[0m\u001b[0mappend\u001b[0m\u001b[1;33m(\u001b[0m\u001b[0mi\u001b[0m\u001b[1;33m)\u001b[0m\u001b[1;33m\u001b[0m\u001b[1;33m\u001b[0m\u001b[0m\n\u001b[1;32m---> 11\u001b[1;33m \u001b[0mmax\u001b[0m\u001b[1;33m(\u001b[0m\u001b[0mp\u001b[0m\u001b[1;33m)\u001b[0m\u001b[1;33m\u001b[0m\u001b[1;33m\u001b[0m\u001b[0m\n\u001b[0m",
      "\u001b[1;31mValueError\u001b[0m: max() arg is an empty sequence"
     ]
    }
   ],
   "source": [
    "a=int(input(\"enter a num\"))\n",
    "b=int(input(\"enter a num\"))\n",
    "c=int(input(\"enter a num\"))\n",
    "p=[]\n",
    "if b>a:\n",
    "    print (-1)\n",
    "else:\n",
    "    for i in range (1,c):\n",
    "        if i<=c and i%a==b:\n",
    "            p.append(i)\n",
    "max(p)"
   ]
  },
  {
   "cell_type": "code",
   "execution_count": 13,
   "metadata": {},
   "outputs": [
    {
     "data": {
      "text/plain": [
       "8"
      ]
     },
     "execution_count": 13,
     "metadata": {},
     "output_type": "execute_result"
    }
   ],
   "source": [
    "def cal(a,b,c):\n",
    "    for i in range(c,a-1,-1):\n",
    "        if i%a==b:\n",
    "            return i\n",
    "    return -1\n",
    "cal(3,2,9)"
   ]
  },
  {
   "cell_type": "code",
   "execution_count": null,
   "metadata": {},
   "outputs": [],
   "source": [
    "\n"
   ]
  },
  {
   "cell_type": "code",
   "execution_count": null,
   "metadata": {},
   "outputs": [],
   "source": []
  },
  {
   "cell_type": "code",
   "execution_count": null,
   "metadata": {},
   "outputs": [],
   "source": []
  }
 ],
 "metadata": {
  "kernelspec": {
   "display_name": "Python 3",
   "language": "python",
   "name": "python3"
  },
  "language_info": {
   "codemirror_mode": {
    "name": "ipython",
    "version": 3
   },
   "file_extension": ".py",
   "mimetype": "text/x-python",
   "name": "python",
   "nbconvert_exporter": "python",
   "pygments_lexer": "ipython3",
   "version": "3.7.3"
  }
 },
 "nbformat": 4,
 "nbformat_minor": 2
}
